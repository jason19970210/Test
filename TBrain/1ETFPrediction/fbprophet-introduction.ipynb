{
 "cells": [
  {
   "cell_type": "markdown",
   "metadata": {},
   "source": [
    "Challenge Begins\n",
    "---\n",
    "<div class=\"alert alert-block alert-success\">\n",
    "As time flies, Now the time let us attend compettiion:\n",
    "\n",
    "[Tbrain by Trend-Micro](https://tbrain.trendmicro.com.tw)  台灣 ETF 價格預測競賽"
   ]
  },
  {
   "cell_type": "markdown",
   "metadata": {},
   "source": [
    " <div class=\"alert alert-block alert-warning\">\n",
    "1. Huge data file: the way to read a data file, chunk by chunk,\n",
    "```python\n",
    "chunksize = 10 ** 6\n",
    "for chunk in pd.read_csv(filename, chunksize=chunksize):\n",
    "       process(chunk)\n",
    "```    "
   ]
  },
  {
   "cell_type": "markdown",
   "metadata": {},
   "source": [
    "<div style=\"font-size:1.4em;\">\n",
    "    \n",
    "|序號|欄位|說明|\n",
    "|-:|-:|-:|\n",
    "|0|ETFid|ETF 代號|\n",
    "| 1| Mon_ud | 周一漲跌 (1:漲, 0:平, -1:跌) 50% |\n",
    "| 2| Mon_cprice| 周一收盤價 (權重 50%) |\n",
    "| 3| Tue_ud | 周二漲跌 (1:漲, 0:平, -1:跌) 50% |\n",
    "| 4| Tue_cprice| 周二收盤價 (權重 50%) |\n",
    "| 5| Wed_ud | 周三漲跌 (1:漲, 0:平, -1:跌) 50% |\n",
    "| 6| Wed_cprice| 周三收盤價 (權重 50%) |\n",
    "| 7| Thu_ud | 周四漲跌 (1:漲, 0:平, -1:跌) 50% |\n",
    "| 8| Thu_cprice| 周四收盤價 (權重 50%) |\n",
    "| 9| Fri_ud | 周五漲跌 (1:漲, 0:平, -1:跌) 50% |\n",
    "| 10| Fri_cprice| 周五收盤價 (權重 50%) |\n",
    "\n",
    "</div>\n",
    "<div class=\"alert alert-block alert-info\">\n",
    "Sample\n",
    "\n",
    "```\n",
    "ETFid,Mon_ud,Mon_cprice,Tue_ud,Tue_cprice,Wed_ud,Wed_cprice,Thu_ud,Thu_cprice,Fri_ud,Fri_cprice\n",
    "0050,1,87.15,1,88.05,-1,88.00,-1,87.25,1,87.45\n",
    "...\n",
    "```"
   ]
  },
  {
   "cell_type": "code",
   "execution_count": 1,
   "metadata": {},
   "outputs": [],
   "source": [
    "import numpy as np\n",
    "from matplotlib import cm, pyplot as plt\n",
    "import matplotlib.dates as dates\n",
    "import pandas as pd\n",
    "import datetime\n",
    "\n",
    "from fbprophet import Prophet\n",
    "from pandas_datareader import data as web\n",
    "import datetime\n",
    "\n",
    "import fix_yahoo_finance as yf\n",
    "yf.pdr_override()\n"
   ]
  },
  {
   "cell_type": "code",
   "execution_count": 2,
   "metadata": {},
   "outputs": [],
   "source": [
    "import warnings\n",
    "warnings.filterwarnings('ignore')\n"
   ]
  },
  {
   "cell_type": "code",
   "execution_count": 3,
   "metadata": {},
   "outputs": [
    {
     "data": {
      "text/plain": [
       "'2018-04-29'"
      ]
     },
     "execution_count": 3,
     "metadata": {},
     "output_type": "execute_result"
    }
   ],
   "source": [
    "import time\n",
    "today=time.strftime(\"%Y-%m-%d\")\n",
    "today"
   ]
  },
  {
   "cell_type": "markdown",
   "metadata": {},
   "source": [
    "|code|ETF|code|ETF|\n",
    "| ------| :------: | :------: |---|\n",
    "|0050|元大台灣50|0058|富邦發達|\n",
    "|0051|元大中型100 |0059|富邦金融|\n",
    "|0052|富邦科技|006201|元大富櫃50|\n",
    "|0053|元大電子|006203|元大MSCI台灣|\n",
    "|0054|元大台商50|006204|永豐臺灣加權 |\n",
    "|0055|元大MSCI金融|006208|富邦台50|\n",
    "|0056|元大高股息|00690|兆豐藍籌30|\n",
    "|0057|富邦摩台|00692|富邦臺灣公司治理100|\n",
    "|00701|國泰臺灣低波動30|00713|元大台灣高息低波|"
   ]
  },
  {
   "cell_type": "code",
   "execution_count": 4,
   "metadata": {},
   "outputs": [],
   "source": [
    "# manually define the name of ETF's\n",
    "etfs=['0050','0051','0052','0053','0054','0055','0056','0057','0058',\n",
    "      '0059','006201','006203','006204','006208','00690','00692','00701','00702']"
   ]
  },
  {
   "cell_type": "code",
   "execution_count": null,
   "metadata": {},
   "outputs": [],
   "source": []
  },
  {
   "cell_type": "code",
   "execution_count": null,
   "metadata": {},
   "outputs": [],
   "source": [
    "import os, sys"
   ]
  },
  {
   "cell_type": "markdown",
   "metadata": {},
   "source": [
    " <div class=\"alert alert-block alert-warning\">\n",
    "Create a new directory if not exists,\n",
    "```python\n",
    "import os\n",
    "if os.path.exists(\"data\"):\n",
    "   print(\"exist\")\n",
    "else:\n",
    "   os.mkdir(\"data\")\n",
    "```    "
   ]
  },
  {
   "cell_type": "code",
   "execution_count": 5,
   "metadata": {},
   "outputs": [],
   "source": [
    "df0050_date=pd.read_csv(\"data/0050.csv\",index_col='Date')"
   ]
  },
  {
   "cell_type": "code",
   "execution_count": 7,
   "metadata": {},
   "outputs": [],
   "source": [
    "df0050_date=df0050_date.rename(columns={\"代碼\": \"code\", \"日期\": \"date\",'中文簡稱':'Name',\"開盤價(元)\":'Open',\n",
    "                            \"最高價(元)\":'High',\"最低價(元)\":'Low',\"收盤價(元)\":'Close',\"total\":\"Volume\"});\n"
   ]
  },
  {
   "cell_type": "code",
   "execution_count": 8,
   "metadata": {},
   "outputs": [
    {
     "data": {
      "text/html": [
       "<div>\n",
       "<style scoped>\n",
       "    .dataframe tbody tr th:only-of-type {\n",
       "        vertical-align: middle;\n",
       "    }\n",
       "\n",
       "    .dataframe tbody tr th {\n",
       "        vertical-align: top;\n",
       "    }\n",
       "\n",
       "    .dataframe thead th {\n",
       "        text-align: right;\n",
       "    }\n",
       "</style>\n",
       "<table border=\"1\" class=\"dataframe\">\n",
       "  <thead>\n",
       "    <tr style=\"text-align: right;\">\n",
       "      <th></th>\n",
       "      <th>code</th>\n",
       "      <th>date</th>\n",
       "      <th>Name</th>\n",
       "      <th>Open</th>\n",
       "      <th>High</th>\n",
       "      <th>Low</th>\n",
       "      <th>Close</th>\n",
       "      <th>Volume</th>\n",
       "      <th>weekday</th>\n",
       "    </tr>\n",
       "    <tr>\n",
       "      <th>Date</th>\n",
       "      <th></th>\n",
       "      <th></th>\n",
       "      <th></th>\n",
       "      <th></th>\n",
       "      <th></th>\n",
       "      <th></th>\n",
       "      <th></th>\n",
       "      <th></th>\n",
       "      <th></th>\n",
       "    </tr>\n",
       "  </thead>\n",
       "  <tbody>\n",
       "    <tr>\n",
       "      <th>2013-01-02</th>\n",
       "      <td>50</td>\n",
       "      <td>20130102</td>\n",
       "      <td>元大台灣50</td>\n",
       "      <td>46.57</td>\n",
       "      <td>47.13</td>\n",
       "      <td>46.49</td>\n",
       "      <td>46.92</td>\n",
       "      <td>16487.0</td>\n",
       "      <td>2</td>\n",
       "    </tr>\n",
       "    <tr>\n",
       "      <th>2013-01-03</th>\n",
       "      <td>50</td>\n",
       "      <td>20130103</td>\n",
       "      <td>元大台灣50</td>\n",
       "      <td>47.35</td>\n",
       "      <td>47.48</td>\n",
       "      <td>47.13</td>\n",
       "      <td>47.31</td>\n",
       "      <td>29020.0</td>\n",
       "      <td>3</td>\n",
       "    </tr>\n",
       "    <tr>\n",
       "      <th>2013-01-04</th>\n",
       "      <td>50</td>\n",
       "      <td>20130104</td>\n",
       "      <td>元大台灣50</td>\n",
       "      <td>47.31</td>\n",
       "      <td>47.31</td>\n",
       "      <td>46.92</td>\n",
       "      <td>47.00</td>\n",
       "      <td>9837.0</td>\n",
       "      <td>4</td>\n",
       "    </tr>\n",
       "    <tr>\n",
       "      <th>2013-01-07</th>\n",
       "      <td>50</td>\n",
       "      <td>20130107</td>\n",
       "      <td>元大台灣50</td>\n",
       "      <td>47.05</td>\n",
       "      <td>47.05</td>\n",
       "      <td>46.49</td>\n",
       "      <td>46.79</td>\n",
       "      <td>8910.0</td>\n",
       "      <td>0</td>\n",
       "    </tr>\n",
       "    <tr>\n",
       "      <th>2013-01-08</th>\n",
       "      <td>50</td>\n",
       "      <td>20130108</td>\n",
       "      <td>元大台灣50</td>\n",
       "      <td>46.57</td>\n",
       "      <td>46.75</td>\n",
       "      <td>46.27</td>\n",
       "      <td>46.49</td>\n",
       "      <td>12507.0</td>\n",
       "      <td>1</td>\n",
       "    </tr>\n",
       "  </tbody>\n",
       "</table>\n",
       "</div>"
      ],
      "text/plain": [
       "            code      date              Name   Open   High    Low  Close  \\\n",
       "Date                                                                       \n",
       "2013-01-02    50  20130102  元大台灣50            46.57  47.13  46.49  46.92   \n",
       "2013-01-03    50  20130103  元大台灣50            47.35  47.48  47.13  47.31   \n",
       "2013-01-04    50  20130104  元大台灣50            47.31  47.31  46.92  47.00   \n",
       "2013-01-07    50  20130107  元大台灣50            47.05  47.05  46.49  46.79   \n",
       "2013-01-08    50  20130108  元大台灣50            46.57  46.75  46.27  46.49   \n",
       "\n",
       "             Volume  weekday  \n",
       "Date                          \n",
       "2013-01-02  16487.0        2  \n",
       "2013-01-03  29020.0        3  \n",
       "2013-01-04   9837.0        4  \n",
       "2013-01-07   8910.0        0  \n",
       "2013-01-08  12507.0        1  "
      ]
     },
     "execution_count": 8,
     "metadata": {},
     "output_type": "execute_result"
    }
   ],
   "source": [
    "df0050_date.head()"
   ]
  },
  {
   "cell_type": "code",
   "execution_count": 22,
   "metadata": {},
   "outputs": [],
   "source": [
    "import numpy as np\n",
    "from sklearn import linear_model\n",
    "from sklearn.metrics import mean_squared_error, r2_score"
   ]
  },
  {
   "cell_type": "markdown",
   "metadata": {},
   "source": [
    "FaceBook Prophet Introduction\n",
    "---\n",
    "One of most prediction package recently for time-series, especially for economical data; it acclaims:\n",
    "1. simple, only 'ds' and 'y', date and observers quantity, are required;\n",
    "- as usual usual, claim the model, training and predict. \n",
    "\n",
    "You should admire this for its compactness!"
   ]
  },
  {
   "cell_type": "code",
   "execution_count": 32,
   "metadata": {},
   "outputs": [],
   "source": [
    "from fbprophet import Prophet"
   ]
  },
  {
   "cell_type": "code",
   "execution_count": null,
   "metadata": {},
   "outputs": [],
   "source": []
  },
  {
   "cell_type": "code",
   "execution_count": 29,
   "metadata": {},
   "outputs": [],
   "source": [
    "#dffb=pd.DataFrame({'ds':pd.to_datetime(df0050_date.index),'y':df0050_date['Close']})\n",
    "dffb=pd.DataFrame()"
   ]
  },
  {
   "cell_type": "code",
   "execution_count": 32,
   "metadata": {},
   "outputs": [],
   "source": [
    "dffb['y'] = df0050_date['Close']\n",
    "dffb['ds'] = pd.to_datetime(df0050_date.index)\n",
    "\n"
   ]
  },
  {
   "cell_type": "code",
   "execution_count": 57,
   "metadata": {},
   "outputs": [],
   "source": [
    "dffb.index=pd.to_datetime(dffb.index)"
   ]
  },
  {
   "cell_type": "code",
   "execution_count": 58,
   "metadata": {},
   "outputs": [
    {
     "data": {
      "text/html": [
       "<div>\n",
       "<style scoped>\n",
       "    .dataframe tbody tr th:only-of-type {\n",
       "        vertical-align: middle;\n",
       "    }\n",
       "\n",
       "    .dataframe tbody tr th {\n",
       "        vertical-align: top;\n",
       "    }\n",
       "\n",
       "    .dataframe thead th {\n",
       "        text-align: right;\n",
       "    }\n",
       "</style>\n",
       "<table border=\"1\" class=\"dataframe\">\n",
       "  <thead>\n",
       "    <tr style=\"text-align: right;\">\n",
       "      <th></th>\n",
       "      <th>y</th>\n",
       "      <th>ds</th>\n",
       "    </tr>\n",
       "    <tr>\n",
       "      <th>Date</th>\n",
       "      <th></th>\n",
       "      <th></th>\n",
       "    </tr>\n",
       "  </thead>\n",
       "  <tbody>\n",
       "    <tr>\n",
       "      <th>2013-01-02</th>\n",
       "      <td>46.92</td>\n",
       "      <td>2013-01-02</td>\n",
       "    </tr>\n",
       "    <tr>\n",
       "      <th>2013-01-03</th>\n",
       "      <td>47.31</td>\n",
       "      <td>2013-01-03</td>\n",
       "    </tr>\n",
       "    <tr>\n",
       "      <th>2013-01-04</th>\n",
       "      <td>47.00</td>\n",
       "      <td>2013-01-04</td>\n",
       "    </tr>\n",
       "    <tr>\n",
       "      <th>2013-01-07</th>\n",
       "      <td>46.79</td>\n",
       "      <td>2013-01-07</td>\n",
       "    </tr>\n",
       "    <tr>\n",
       "      <th>2013-01-08</th>\n",
       "      <td>46.49</td>\n",
       "      <td>2013-01-08</td>\n",
       "    </tr>\n",
       "  </tbody>\n",
       "</table>\n",
       "</div>"
      ],
      "text/plain": [
       "                y         ds\n",
       "Date                        \n",
       "2013-01-02  46.92 2013-01-02\n",
       "2013-01-03  47.31 2013-01-03\n",
       "2013-01-04  47.00 2013-01-04\n",
       "2013-01-07  46.79 2013-01-07\n",
       "2013-01-08  46.49 2013-01-08"
      ]
     },
     "execution_count": 58,
     "metadata": {},
     "output_type": "execute_result"
    }
   ],
   "source": [
    "dffb.head()"
   ]
  },
  {
   "cell_type": "markdown",
   "metadata": {},
   "source": [
    "Modeling Prediction\n",
    "---\n",
    "```\n",
    "Prophet(growth='linear', changepoints=None, n_changepoints=25, yearly_seasonality='auto',\n",
    "        weekly_seasonality='auto', daily_seasonality='auto', holidays=None, \n",
    "        seasonality_prior_scale=10.0, holidays_prior_scale=10.0, \n",
    "        changepoint_prior_scale=0.05, mcmc_samples=0, interval_width=0.8, uncertainty_samples=1000)\n",
    "```\n",
    "- Input ```df.ds, df.y```: datetime and data we want to predict, define them if none;\n",
    "- Output ```df.yhat, df.yhat_upper, df.yhat_lower```: 80% CI's"
   ]
  },
  {
   "cell_type": "code",
   "execution_count": 41,
   "metadata": {},
   "outputs": [],
   "source": [
    "s={'changepoint_prior_scale':  0.05, 'weekly_seasonality' : False,\n",
    "    'daily_seasonality': False,'monthly_seasonality': True,\n",
    "    'yearly_seasonality': True,'changepoints': None}"
   ]
  },
  {
   "cell_type": "code",
   "execution_count": 43,
   "metadata": {},
   "outputs": [
    {
     "data": {
      "text/plain": [
       "<fbprophet.forecaster.Prophet at 0x1146bde48>"
      ]
     },
     "execution_count": 43,
     "metadata": {},
     "output_type": "execute_result"
    }
   ],
   "source": [
    "#model = Prophet(mcmc_samples=500)\n",
    "model = Prophet(daily_seasonality=s['daily_seasonality'],weekly_seasonality=s['weekly_seasonality'], \n",
    "                                  yearly_seasonality=s['yearly_seasonality'],\n",
    "                                  changepoint_prior_scale=s['changepoint_prior_scale'],\n",
    "                                  changepoints=s['changepoints'])\n",
    "model.add_seasonality(name = 'monthly', period = 30.5, fourier_order = 5)"
   ]
  },
  {
   "cell_type": "code",
   "execution_count": null,
   "metadata": {},
   "outputs": [],
   "source": [
    "model.fit(dffb);"
   ]
  },
  {
   "cell_type": "code",
   "execution_count": 44,
   "metadata": {},
   "outputs": [
    {
     "data": {
      "text/html": [
       "<div>\n",
       "<style scoped>\n",
       "    .dataframe tbody tr th:only-of-type {\n",
       "        vertical-align: middle;\n",
       "    }\n",
       "\n",
       "    .dataframe tbody tr th {\n",
       "        vertical-align: top;\n",
       "    }\n",
       "\n",
       "    .dataframe thead th {\n",
       "        text-align: right;\n",
       "    }\n",
       "</style>\n",
       "<table border=\"1\" class=\"dataframe\">\n",
       "  <thead>\n",
       "    <tr style=\"text-align: right;\">\n",
       "      <th></th>\n",
       "      <th>ds</th>\n",
       "    </tr>\n",
       "  </thead>\n",
       "  <tbody>\n",
       "    <tr>\n",
       "      <th>1279</th>\n",
       "      <td>2018-03-23</td>\n",
       "    </tr>\n",
       "    <tr>\n",
       "      <th>1280</th>\n",
       "      <td>2018-03-26</td>\n",
       "    </tr>\n",
       "    <tr>\n",
       "      <th>1281</th>\n",
       "      <td>2018-03-27</td>\n",
       "    </tr>\n",
       "    <tr>\n",
       "      <th>1282</th>\n",
       "      <td>2018-03-28</td>\n",
       "    </tr>\n",
       "    <tr>\n",
       "      <th>1283</th>\n",
       "      <td>2018-03-29</td>\n",
       "    </tr>\n",
       "    <tr>\n",
       "      <th>1284</th>\n",
       "      <td>2018-03-30</td>\n",
       "    </tr>\n",
       "    <tr>\n",
       "      <th>1285</th>\n",
       "      <td>2018-03-31</td>\n",
       "    </tr>\n",
       "    <tr>\n",
       "      <th>1286</th>\n",
       "      <td>2018-04-01</td>\n",
       "    </tr>\n",
       "    <tr>\n",
       "      <th>1287</th>\n",
       "      <td>2018-04-02</td>\n",
       "    </tr>\n",
       "    <tr>\n",
       "      <th>1288</th>\n",
       "      <td>2018-04-03</td>\n",
       "    </tr>\n",
       "    <tr>\n",
       "      <th>1289</th>\n",
       "      <td>2018-04-04</td>\n",
       "    </tr>\n",
       "    <tr>\n",
       "      <th>1290</th>\n",
       "      <td>2018-04-05</td>\n",
       "    </tr>\n",
       "    <tr>\n",
       "      <th>1291</th>\n",
       "      <td>2018-04-06</td>\n",
       "    </tr>\n",
       "    <tr>\n",
       "      <th>1292</th>\n",
       "      <td>2018-04-07</td>\n",
       "    </tr>\n",
       "  </tbody>\n",
       "</table>\n",
       "</div>"
      ],
      "text/plain": [
       "             ds\n",
       "1279 2018-03-23\n",
       "1280 2018-03-26\n",
       "1281 2018-03-27\n",
       "1282 2018-03-28\n",
       "1283 2018-03-29\n",
       "1284 2018-03-30\n",
       "1285 2018-03-31\n",
       "1286 2018-04-01\n",
       "1287 2018-04-02\n",
       "1288 2018-04-03\n",
       "1289 2018-04-04\n",
       "1290 2018-04-05\n",
       "1291 2018-04-06\n",
       "1292 2018-04-07"
      ]
     },
     "execution_count": 44,
     "metadata": {},
     "output_type": "execute_result"
    }
   ],
   "source": [
    "future = model.make_future_dataframe(periods=7)\n",
    "future[-14:]"
   ]
  },
  {
   "cell_type": "code",
   "execution_count": 47,
   "metadata": {},
   "outputs": [
    {
     "data": {
      "text/html": [
       "<div>\n",
       "<style scoped>\n",
       "    .dataframe tbody tr th:only-of-type {\n",
       "        vertical-align: middle;\n",
       "    }\n",
       "\n",
       "    .dataframe tbody tr th {\n",
       "        vertical-align: top;\n",
       "    }\n",
       "\n",
       "    .dataframe thead th {\n",
       "        text-align: right;\n",
       "    }\n",
       "</style>\n",
       "<table border=\"1\" class=\"dataframe\">\n",
       "  <thead>\n",
       "    <tr style=\"text-align: right;\">\n",
       "      <th></th>\n",
       "      <th>ds</th>\n",
       "      <th>yhat</th>\n",
       "      <th>yhat_lower</th>\n",
       "      <th>yhat_upper</th>\n",
       "    </tr>\n",
       "  </thead>\n",
       "  <tbody>\n",
       "    <tr>\n",
       "      <th>1279</th>\n",
       "      <td>2018-03-23</td>\n",
       "      <td>84.195038</td>\n",
       "      <td>82.681881</td>\n",
       "      <td>85.665293</td>\n",
       "    </tr>\n",
       "    <tr>\n",
       "      <th>1280</th>\n",
       "      <td>2018-03-26</td>\n",
       "      <td>84.437676</td>\n",
       "      <td>82.943618</td>\n",
       "      <td>86.148982</td>\n",
       "    </tr>\n",
       "    <tr>\n",
       "      <th>1281</th>\n",
       "      <td>2018-03-27</td>\n",
       "      <td>84.384590</td>\n",
       "      <td>82.936702</td>\n",
       "      <td>85.865438</td>\n",
       "    </tr>\n",
       "    <tr>\n",
       "      <th>1282</th>\n",
       "      <td>2018-03-28</td>\n",
       "      <td>84.299058</td>\n",
       "      <td>82.833029</td>\n",
       "      <td>85.882208</td>\n",
       "    </tr>\n",
       "    <tr>\n",
       "      <th>1283</th>\n",
       "      <td>2018-03-29</td>\n",
       "      <td>84.257568</td>\n",
       "      <td>82.706303</td>\n",
       "      <td>85.722208</td>\n",
       "    </tr>\n",
       "    <tr>\n",
       "      <th>1284</th>\n",
       "      <td>2018-03-30</td>\n",
       "      <td>84.302503</td>\n",
       "      <td>82.610994</td>\n",
       "      <td>85.732350</td>\n",
       "    </tr>\n",
       "    <tr>\n",
       "      <th>1285</th>\n",
       "      <td>2018-03-31</td>\n",
       "      <td>84.412630</td>\n",
       "      <td>82.934051</td>\n",
       "      <td>85.968528</td>\n",
       "    </tr>\n",
       "    <tr>\n",
       "      <th>1286</th>\n",
       "      <td>2018-04-01</td>\n",
       "      <td>84.524973</td>\n",
       "      <td>82.986628</td>\n",
       "      <td>85.993549</td>\n",
       "    </tr>\n",
       "    <tr>\n",
       "      <th>1287</th>\n",
       "      <td>2018-04-02</td>\n",
       "      <td>84.585927</td>\n",
       "      <td>83.046101</td>\n",
       "      <td>85.999079</td>\n",
       "    </tr>\n",
       "    <tr>\n",
       "      <th>1288</th>\n",
       "      <td>2018-04-03</td>\n",
       "      <td>84.587514</td>\n",
       "      <td>83.125290</td>\n",
       "      <td>86.170804</td>\n",
       "    </tr>\n",
       "    <tr>\n",
       "      <th>1289</th>\n",
       "      <td>2018-04-04</td>\n",
       "      <td>84.562352</td>\n",
       "      <td>83.005481</td>\n",
       "      <td>86.060384</td>\n",
       "    </tr>\n",
       "    <tr>\n",
       "      <th>1290</th>\n",
       "      <td>2018-04-05</td>\n",
       "      <td>84.549090</td>\n",
       "      <td>82.897046</td>\n",
       "      <td>86.199760</td>\n",
       "    </tr>\n",
       "    <tr>\n",
       "      <th>1291</th>\n",
       "      <td>2018-04-06</td>\n",
       "      <td>84.562968</td>\n",
       "      <td>83.075270</td>\n",
       "      <td>86.075947</td>\n",
       "    </tr>\n",
       "    <tr>\n",
       "      <th>1292</th>\n",
       "      <td>2018-04-07</td>\n",
       "      <td>84.594980</td>\n",
       "      <td>83.002020</td>\n",
       "      <td>86.263235</td>\n",
       "    </tr>\n",
       "  </tbody>\n",
       "</table>\n",
       "</div>"
      ],
      "text/plain": [
       "             ds       yhat  yhat_lower  yhat_upper\n",
       "1279 2018-03-23  84.195038   82.681881   85.665293\n",
       "1280 2018-03-26  84.437676   82.943618   86.148982\n",
       "1281 2018-03-27  84.384590   82.936702   85.865438\n",
       "1282 2018-03-28  84.299058   82.833029   85.882208\n",
       "1283 2018-03-29  84.257568   82.706303   85.722208\n",
       "1284 2018-03-30  84.302503   82.610994   85.732350\n",
       "1285 2018-03-31  84.412630   82.934051   85.968528\n",
       "1286 2018-04-01  84.524973   82.986628   85.993549\n",
       "1287 2018-04-02  84.585927   83.046101   85.999079\n",
       "1288 2018-04-03  84.587514   83.125290   86.170804\n",
       "1289 2018-04-04  84.562352   83.005481   86.060384\n",
       "1290 2018-04-05  84.549090   82.897046   86.199760\n",
       "1291 2018-04-06  84.562968   83.075270   86.075947\n",
       "1292 2018-04-07  84.594980   83.002020   86.263235"
      ]
     },
     "execution_count": 47,
     "metadata": {},
     "output_type": "execute_result"
    }
   ],
   "source": [
    "forecast = model.predict(future)\n",
    "forecast[['ds','yhat', 'yhat_lower', 'yhat_upper']].tail(14)"
   ]
  },
  {
   "cell_type": "code",
   "execution_count": 68,
   "metadata": {},
   "outputs": [
    {
     "data": {
      "image/png": "[encoded data removed]",
      "text/plain": [
       "<Figure size 720x432 with 1 Axes>"
      ]
     },
     "execution_count": 68,
     "metadata": {},
     "output_type": "execute_result"
    },
    {
     "data": {
      "image/png": "[encoded data removed]",
      "text/plain": [
       "<Figure size 720x432 with 1 Axes>"
      ]
     },
     "metadata": {},
     "output_type": "display_data"
    }
   ],
   "source": [
    "model.plot(forecast)"
   ]
  },
  {
   "cell_type": "code",
   "execution_count": 66,
   "metadata": {},
   "outputs": [
    {
     "data": {
      "image/png": "[encoded data removed]",
      "text/plain": [
       "<Figure size 648x648 with 3 Axes>"
      ]
     },
     "metadata": {},
     "output_type": "display_data"
    }
   ],
   "source": [
    "model.plot_components(forecast)\n",
    "plt.show()"
   ]
  },
  {
   "cell_type": "code",
   "execution_count": 62,
   "metadata": {},
   "outputs": [
    {
     "data": {
      "image/png": "[encoded data removed]",
      "text/plain": [
       "<Figure size 720x432 with 1 Axes>"
      ]
     },
     "execution_count": 62,
     "metadata": {},
     "output_type": "execute_result"
    },
    {
     "data": {
      "image/png": "[encoded data removed]",
      "text/plain": [
       "<Figure size 720x432 with 1 Axes>"
      ]
     },
     "metadata": {},
     "output_type": "display_data"
    }
   ],
   "source": [
    "obs=forecast[-90:]\n",
    "model.plot(obs)"
   ]
  },
  {
   "cell_type": "code",
   "execution_count": 50,
   "metadata": {},
   "outputs": [],
   "source": [
    "fb=forecast[['ds','yhat', 'yhat_lower', 'yhat_upper']][-21:-7]"
   ]
  },
  {
   "cell_type": "code",
   "execution_count": null,
   "metadata": {},
   "outputs": [],
   "source": []
  },
  {
   "cell_type": "code",
   "execution_count": 61,
   "metadata": {},
   "outputs": [
    {
     "data": {
      "text/plain": [
       "(80, 85)"
      ]
     },
     "execution_count": 61,
     "metadata": {},
     "output_type": "execute_result"
    },
    {
     "data": {
      "image/png": "[encoded data removed]",
      "text/plain": [
       "<Figure size 864x432 with 1 Axes>"
      ]
     },
     "metadata": {},
     "output_type": "display_data"
    }
   ],
   "source": [
    "plt.figure(figsize=(12,6))\n",
    "dffb.y[-14:].plot()\n",
    "plt.plot(fb.ds,fb.yhat,label='pred')\n",
    "plt.legend()\n",
    "plt.ylim(80,85)"
   ]
  },
  {
   "cell_type": "code",
   "execution_count": 69,
   "metadata": {},
   "outputs": [],
   "source": [
    "df_pred=forecast[['ds','yhat', 'yhat_lower', 'yhat_upper']][-7:]"
   ]
  },
  {
   "cell_type": "code",
   "execution_count": 74,
   "metadata": {},
   "outputs": [],
   "source": [
    "df_pred['weekday']=df_pred.ds.dt.weekday_name"
   ]
  },
  {
   "cell_type": "code",
   "execution_count": 97,
   "metadata": {},
   "outputs": [],
   "source": [
    "df_pred['yhat']=round(df_pred.yhat,2)"
   ]
  },
  {
   "cell_type": "raw",
   "metadata": {},
   "source": [
    "todays_date = datetime.datetime.now().date()\n",
    "# predict next weekays at Friday \n",
    "indexs = pd.date_range(todays_date-datetime.timedelta(-3), periods=5, freq='D')"
   ]
  },
  {
   "cell_type": "code",
   "execution_count": null,
   "metadata": {},
   "outputs": [],
   "source": [
    "etfs=['0050','0051','0052','0053','0054','0055','0056','0057','0058',\n",
    "      '0059','006201','006203','006204','006208','00690','00692','00701','00702']"
   ]
  },
  {
   "cell_type": "code",
   "execution_count": 79,
   "metadata": {},
   "outputs": [],
   "source": [
    "indexs=df_pred['ds'][1:-1]"
   ]
  },
  {
   "cell_type": "code",
   "execution_count": 143,
   "metadata": {},
   "outputs": [],
   "source": [
    "index=df_pred['ds'][1:-1]\n",
    "columns = ['ETFid','Mon_ud','Mon_cprice','Tue_ud','Tue_cprice','Wed_ud','Wed_cprice',\n",
    "           'Thu_ud','Thu_cprice','Fri_ud','Fri_cprice']\n",
    "\n",
    "dfs= pd.DataFrame(columns=columns)\n",
    "#dfs= pd.DataFrame(index=etfs, columns=columns)\n",
    "# Fill zero's rater than Nan \n",
    "#dfs = dfs.fillna(0)"
   ]
  },
  {
   "cell_type": "code",
   "execution_count": 144,
   "metadata": {},
   "outputs": [
    {
     "data": {
      "text/html": [
       "<div>\n",
       "<style scoped>\n",
       "    .dataframe tbody tr th:only-of-type {\n",
       "        vertical-align: middle;\n",
       "    }\n",
       "\n",
       "    .dataframe tbody tr th {\n",
       "        vertical-align: top;\n",
       "    }\n",
       "\n",
       "    .dataframe thead th {\n",
       "        text-align: right;\n",
       "    }\n",
       "</style>\n",
       "<table border=\"1\" class=\"dataframe\">\n",
       "  <thead>\n",
       "    <tr style=\"text-align: right;\">\n",
       "      <th></th>\n",
       "      <th>ETFid</th>\n",
       "      <th>Mon_ud</th>\n",
       "      <th>Mon_cprice</th>\n",
       "      <th>Tue_ud</th>\n",
       "      <th>Tue_cprice</th>\n",
       "      <th>Wed_ud</th>\n",
       "      <th>Wed_cprice</th>\n",
       "      <th>Thu_ud</th>\n",
       "      <th>Thu_cprice</th>\n",
       "      <th>Fri_ud</th>\n",
       "      <th>Fri_cprice</th>\n",
       "    </tr>\n",
       "  </thead>\n",
       "  <tbody>\n",
       "  </tbody>\n",
       "</table>\n",
       "</div>"
      ],
      "text/plain": [
       "Empty DataFrame\n",
       "Columns: [ETFid, Mon_ud, Mon_cprice, Tue_ud, Tue_cprice, Wed_ud, Wed_cprice, Thu_ud, Thu_cprice, Fri_ud, Fri_cprice]\n",
       "Index: []"
      ]
     },
     "execution_count": 144,
     "metadata": {},
     "output_type": "execute_result"
    }
   ],
   "source": [
    "dfs"
   ]
  },
  {
   "cell_type": "code",
   "execution_count": null,
   "metadata": {},
   "outputs": [],
   "source": []
  },
  {
   "cell_type": "code",
   "execution_count": 110,
   "metadata": {},
   "outputs": [],
   "source": [
    "# \n",
    "df_pred['yesterday_close'] = df0050_date.Close[-1:].values[0]\n",
    "#df_pred['yesterday_close'][0]=df0050_date.Close[-1:]\n",
    "df_pred['yesterday_close'][1:] = df_pred['yhat'][:-1]\n",
    "df_pred['price_change'] = df_pred['yhat'] - df_pred['yesterday_close']\n",
    "df_pred['sign'] = np.sign(df_pred['price_change']).astype('int')"
   ]
  },
  {
   "cell_type": "code",
   "execution_count": 111,
   "metadata": {},
   "outputs": [
    {
     "data": {
      "text/html": [
       "<div>\n",
       "<style scoped>\n",
       "    .dataframe tbody tr th:only-of-type {\n",
       "        vertical-align: middle;\n",
       "    }\n",
       "\n",
       "    .dataframe tbody tr th {\n",
       "        vertical-align: top;\n",
       "    }\n",
       "\n",
       "    .dataframe thead th {\n",
       "        text-align: right;\n",
       "    }\n",
       "</style>\n",
       "<table border=\"1\" class=\"dataframe\">\n",
       "  <thead>\n",
       "    <tr style=\"text-align: right;\">\n",
       "      <th></th>\n",
       "      <th>ds</th>\n",
       "      <th>yhat</th>\n",
       "      <th>yhat_lower</th>\n",
       "      <th>yhat_upper</th>\n",
       "      <th>weekday</th>\n",
       "      <th>yesterday_close</th>\n",
       "      <th>price_change</th>\n",
       "      <th>sign</th>\n",
       "    </tr>\n",
       "  </thead>\n",
       "  <tbody>\n",
       "    <tr>\n",
       "      <th>1286</th>\n",
       "      <td>2018-04-01</td>\n",
       "      <td>84.52</td>\n",
       "      <td>82.986628</td>\n",
       "      <td>85.993549</td>\n",
       "      <td>Sunday</td>\n",
       "      <td>82.95</td>\n",
       "      <td>1.57</td>\n",
       "      <td>1</td>\n",
       "    </tr>\n",
       "    <tr>\n",
       "      <th>1287</th>\n",
       "      <td>2018-04-02</td>\n",
       "      <td>84.59</td>\n",
       "      <td>83.046101</td>\n",
       "      <td>85.999079</td>\n",
       "      <td>Monday</td>\n",
       "      <td>84.52</td>\n",
       "      <td>0.07</td>\n",
       "      <td>1</td>\n",
       "    </tr>\n",
       "    <tr>\n",
       "      <th>1288</th>\n",
       "      <td>2018-04-03</td>\n",
       "      <td>84.59</td>\n",
       "      <td>83.125290</td>\n",
       "      <td>86.170804</td>\n",
       "      <td>Tuesday</td>\n",
       "      <td>84.59</td>\n",
       "      <td>0.00</td>\n",
       "      <td>0</td>\n",
       "    </tr>\n",
       "    <tr>\n",
       "      <th>1289</th>\n",
       "      <td>2018-04-04</td>\n",
       "      <td>84.56</td>\n",
       "      <td>83.005481</td>\n",
       "      <td>86.060384</td>\n",
       "      <td>Wednesday</td>\n",
       "      <td>84.59</td>\n",
       "      <td>-0.03</td>\n",
       "      <td>-1</td>\n",
       "    </tr>\n",
       "    <tr>\n",
       "      <th>1290</th>\n",
       "      <td>2018-04-05</td>\n",
       "      <td>84.55</td>\n",
       "      <td>82.897046</td>\n",
       "      <td>86.199760</td>\n",
       "      <td>Thursday</td>\n",
       "      <td>84.56</td>\n",
       "      <td>-0.01</td>\n",
       "      <td>-1</td>\n",
       "    </tr>\n",
       "    <tr>\n",
       "      <th>1291</th>\n",
       "      <td>2018-04-06</td>\n",
       "      <td>84.56</td>\n",
       "      <td>83.075270</td>\n",
       "      <td>86.075947</td>\n",
       "      <td>Friday</td>\n",
       "      <td>84.55</td>\n",
       "      <td>0.01</td>\n",
       "      <td>1</td>\n",
       "    </tr>\n",
       "    <tr>\n",
       "      <th>1292</th>\n",
       "      <td>2018-04-07</td>\n",
       "      <td>84.59</td>\n",
       "      <td>83.002020</td>\n",
       "      <td>86.263235</td>\n",
       "      <td>Saturday</td>\n",
       "      <td>84.56</td>\n",
       "      <td>0.03</td>\n",
       "      <td>1</td>\n",
       "    </tr>\n",
       "  </tbody>\n",
       "</table>\n",
       "</div>"
      ],
      "text/plain": [
       "             ds   yhat  yhat_lower  yhat_upper    weekday  yesterday_close  \\\n",
       "1286 2018-04-01  84.52   82.986628   85.993549     Sunday            82.95   \n",
       "1287 2018-04-02  84.59   83.046101   85.999079     Monday            84.52   \n",
       "1288 2018-04-03  84.59   83.125290   86.170804    Tuesday            84.59   \n",
       "1289 2018-04-04  84.56   83.005481   86.060384  Wednesday            84.59   \n",
       "1290 2018-04-05  84.55   82.897046   86.199760   Thursday            84.56   \n",
       "1291 2018-04-06  84.56   83.075270   86.075947     Friday            84.55   \n",
       "1292 2018-04-07  84.59   83.002020   86.263235   Saturday            84.56   \n",
       "\n",
       "      price_change  sign  \n",
       "1286          1.57     1  \n",
       "1287          0.07     1  \n",
       "1288          0.00     0  \n",
       "1289         -0.03    -1  \n",
       "1290         -0.01    -1  \n",
       "1291          0.01     1  \n",
       "1292          0.03     1  "
      ]
     },
     "execution_count": 111,
     "metadata": {},
     "output_type": "execute_result"
    }
   ],
   "source": [
    "df_pred"
   ]
  },
  {
   "cell_type": "code",
   "execution_count": null,
   "metadata": {},
   "outputs": [],
   "source": [
    "for etfs0 in etfs0s:\n",
    "    a=df_pred.sign[1:-1].values\n",
    "    b=df_pred.yhat[1:-1].values\n",
    "    record=[etfs0]\n",
    "    for i in range(len(a)):\n",
    "        record.append(a[i])\n",
    "        record.append(b[i])\n",
    "    print(record)    "
   ]
  },
  {
   "cell_type": "code",
   "execution_count": 141,
   "metadata": {},
   "outputs": [],
   "source": [
    "# insert the final result in defaulted format\n",
    "dfs.loc[0]=record"
   ]
  },
  {
   "cell_type": "code",
   "execution_count": 142,
   "metadata": {},
   "outputs": [
    {
     "data": {
      "text/html": [
       "<div>\n",
       "<style scoped>\n",
       "    .dataframe tbody tr th:only-of-type {\n",
       "        vertical-align: middle;\n",
       "    }\n",
       "\n",
       "    .dataframe tbody tr th {\n",
       "        vertical-align: top;\n",
       "    }\n",
       "\n",
       "    .dataframe thead th {\n",
       "        text-align: right;\n",
       "    }\n",
       "</style>\n",
       "<table border=\"1\" class=\"dataframe\">\n",
       "  <thead>\n",
       "    <tr style=\"text-align: right;\">\n",
       "      <th></th>\n",
       "      <th>ETFid</th>\n",
       "      <th>Mon_ud</th>\n",
       "      <th>Mon_cprice</th>\n",
       "      <th>Tue_ud</th>\n",
       "      <th>Tue_cprice</th>\n",
       "      <th>Wed_ud</th>\n",
       "      <th>Wed_cprice</th>\n",
       "      <th>Thu_ud</th>\n",
       "      <th>Thu_cprice</th>\n",
       "      <th>Fri_ud</th>\n",
       "      <th>Fri_cprice</th>\n",
       "    </tr>\n",
       "  </thead>\n",
       "  <tbody>\n",
       "    <tr>\n",
       "      <th>0</th>\n",
       "      <td>0050</td>\n",
       "      <td>1</td>\n",
       "      <td>84.59</td>\n",
       "      <td>0</td>\n",
       "      <td>84.59</td>\n",
       "      <td>-1</td>\n",
       "      <td>84.56</td>\n",
       "      <td>-1</td>\n",
       "      <td>84.55</td>\n",
       "      <td>1</td>\n",
       "      <td>84.56</td>\n",
       "    </tr>\n",
       "  </tbody>\n",
       "</table>\n",
       "</div>"
      ],
      "text/plain": [
       "  ETFid Mon_ud  Mon_cprice Tue_ud  Tue_cprice Wed_ud  Wed_cprice Thu_ud  \\\n",
       "0  0050      1       84.59      0       84.59     -1       84.56     -1   \n",
       "\n",
       "   Thu_cprice Fri_ud  Fri_cprice  \n",
       "0       84.55      1       84.56  "
      ]
     },
     "execution_count": 142,
     "metadata": {},
     "output_type": "execute_result"
    }
   ],
   "source": [
    "dfs"
   ]
  },
  {
   "cell_type": "markdown",
   "metadata": {},
   "source": [
    "Last Note\n",
    "---\n",
    "- Here, we shows how to create the result for id=`0050`. You can create the function in which load all the data, create fbprophet model, fit, etc. After completing work, write all the data into dfs as asked.\n",
    "- Next week, append the last true data into old df and re-do the above work.\n",
    "- <font color=\"red\">Check the result with the exact data after while</font>."
   ]
  },
  {
   "cell_type": "markdown",
   "metadata": {},
   "source": [
    "How about the prediction, good or bad?\n",
    "---"
   ]
  },
  {
   "cell_type": "code",
   "execution_count": 12,
   "metadata": {},
   "outputs": [],
   "source": [
    "import pandas as pd\n",
    "import time\n",
    "from pandas_datareader import data as web\n",
    "import numpy as np\n",
    "import fix_yahoo_finance as yf\n",
    "yf.pdr_override()"
   ]
  },
  {
   "cell_type": "code",
   "execution_count": 17,
   "metadata": {},
   "outputs": [],
   "source": [
    "ETF1 = \"0050.TW\"\n",
    "\n",
    "END_DATE='2018-04-024'\n",
    "START_DATE = '2018-03-30'"
   ]
  },
  {
   "cell_type": "code",
   "execution_count": 10,
   "metadata": {},
   "outputs": [
    {
     "name": "stdout",
     "output_type": "stream",
     "text": [
      "[*********************100%***********************]  1 of 1 downloaded\n"
     ]
    },
    {
     "data": {
      "text/html": [
       "<div>\n",
       "<style scoped>\n",
       "    .dataframe tbody tr th:only-of-type {\n",
       "        vertical-align: middle;\n",
       "    }\n",
       "\n",
       "    .dataframe tbody tr th {\n",
       "        vertical-align: top;\n",
       "    }\n",
       "\n",
       "    .dataframe thead th {\n",
       "        text-align: right;\n",
       "    }\n",
       "</style>\n",
       "<table border=\"1\" class=\"dataframe\">\n",
       "  <thead>\n",
       "    <tr style=\"text-align: right;\">\n",
       "      <th></th>\n",
       "      <th>Open</th>\n",
       "      <th>High</th>\n",
       "      <th>Low</th>\n",
       "      <th>Close</th>\n",
       "      <th>Adj Close</th>\n",
       "      <th>Volume</th>\n",
       "    </tr>\n",
       "    <tr>\n",
       "      <th>Date</th>\n",
       "      <th></th>\n",
       "      <th></th>\n",
       "      <th></th>\n",
       "      <th></th>\n",
       "      <th></th>\n",
       "      <th></th>\n",
       "    </tr>\n",
       "  </thead>\n",
       "  <tbody>\n",
       "    <tr>\n",
       "      <th>2018-03-30</th>\n",
       "      <td>82.650002</td>\n",
       "      <td>83.050003</td>\n",
       "      <td>82.650002</td>\n",
       "      <td>82.849998</td>\n",
       "      <td>82.849998</td>\n",
       "      <td>4994090</td>\n",
       "    </tr>\n",
       "    <tr>\n",
       "      <th>2018-04-02</th>\n",
       "      <td>82.849998</td>\n",
       "      <td>82.949997</td>\n",
       "      <td>82.150002</td>\n",
       "      <td>82.250000</td>\n",
       "      <td>82.250000</td>\n",
       "      <td>3737299</td>\n",
       "    </tr>\n",
       "    <tr>\n",
       "      <th>2018-04-03</th>\n",
       "      <td>81.500000</td>\n",
       "      <td>81.550003</td>\n",
       "      <td>81.199997</td>\n",
       "      <td>81.500000</td>\n",
       "      <td>81.500000</td>\n",
       "      <td>6187523</td>\n",
       "    </tr>\n",
       "  </tbody>\n",
       "</table>\n",
       "</div>"
      ],
      "text/plain": [
       "                 Open       High        Low      Close  Adj Close   Volume\n",
       "Date                                                                      \n",
       "2018-03-30  82.650002  83.050003  82.650002  82.849998  82.849998  4994090\n",
       "2018-04-02  82.849998  82.949997  82.150002  82.250000  82.250000  3737299\n",
       "2018-04-03  81.500000  81.550003  81.199997  81.500000  81.500000  6187523"
      ]
     },
     "execution_count": 10,
     "metadata": {},
     "output_type": "execute_result"
    }
   ],
   "source": [
    "df_ETF1 = web.get_data_yahoo(ETF1,START_DATE,END_DATE)\n",
    "df_ETF1"
   ]
  },
  {
   "cell_type": "code",
   "execution_count": 23,
   "metadata": {},
   "outputs": [
    {
     "name": "stderr",
     "output_type": "stream",
     "text": [
      "/Users/cch/anaconda36/anaconda/lib/python3.6/site-packages/ipykernel_launcher.py:3: SettingWithCopyWarning: \n",
      "A value is trying to be set on a copy of a slice from a DataFrame\n",
      "\n",
      "See the caveats in the documentation: http://pandas.pydata.org/pandas-docs/stable/indexing.html#indexing-view-versus-copy\n",
      "  This is separate from the ipykernel package so we can avoid doing imports until\n"
     ]
    }
   ],
   "source": [
    "df_ETF1['yesterday_close'] = 0\n",
    "#df_pred['yesterday_close'][0]=df0050_date.Close[-1:]\n",
    "df_ETF1['yesterday_close'][1:] = round(df_ETF1['Close'][:-1],2)\n",
    "df_ETF1['Close'] =round(df_ETF1['Close'] ,2)\n",
    "df_ETF1['price_change'] = df_ETF1['Close'] - df_ETF1['yesterday_close']\n",
    "df_ETF1['price_change']=round(df_ETF1['price_change'],2)\n",
    "df_ETF1['sign'] = np.sign(df_ETF1['price_change']).astype('int')"
   ]
  },
  {
   "cell_type": "code",
   "execution_count": 25,
   "metadata": {},
   "outputs": [
    {
     "data": {
      "text/html": [
       "<div>\n",
       "<style scoped>\n",
       "    .dataframe tbody tr th:only-of-type {\n",
       "        vertical-align: middle;\n",
       "    }\n",
       "\n",
       "    .dataframe tbody tr th {\n",
       "        vertical-align: top;\n",
       "    }\n",
       "\n",
       "    .dataframe thead th {\n",
       "        text-align: right;\n",
       "    }\n",
       "</style>\n",
       "<table border=\"1\" class=\"dataframe\">\n",
       "  <thead>\n",
       "    <tr style=\"text-align: right;\">\n",
       "      <th></th>\n",
       "      <th>Open</th>\n",
       "      <th>High</th>\n",
       "      <th>Low</th>\n",
       "      <th>Close</th>\n",
       "      <th>Adj Close</th>\n",
       "      <th>Volume</th>\n",
       "      <th>yesterday_close</th>\n",
       "      <th>price_change</th>\n",
       "      <th>sign</th>\n",
       "    </tr>\n",
       "    <tr>\n",
       "      <th>Date</th>\n",
       "      <th></th>\n",
       "      <th></th>\n",
       "      <th></th>\n",
       "      <th></th>\n",
       "      <th></th>\n",
       "      <th></th>\n",
       "      <th></th>\n",
       "      <th></th>\n",
       "      <th></th>\n",
       "    </tr>\n",
       "  </thead>\n",
       "  <tbody>\n",
       "    <tr>\n",
       "      <th>2018-04-02</th>\n",
       "      <td>82.849998</td>\n",
       "      <td>82.949997</td>\n",
       "      <td>82.150002</td>\n",
       "      <td>82.25</td>\n",
       "      <td>82.25</td>\n",
       "      <td>3737299</td>\n",
       "      <td>82.85</td>\n",
       "      <td>-0.60</td>\n",
       "      <td>-1</td>\n",
       "    </tr>\n",
       "    <tr>\n",
       "      <th>2018-04-03</th>\n",
       "      <td>81.500000</td>\n",
       "      <td>81.550003</td>\n",
       "      <td>81.199997</td>\n",
       "      <td>81.50</td>\n",
       "      <td>81.50</td>\n",
       "      <td>6187523</td>\n",
       "      <td>82.25</td>\n",
       "      <td>-0.75</td>\n",
       "      <td>-1</td>\n",
       "    </tr>\n",
       "  </tbody>\n",
       "</table>\n",
       "</div>"
      ],
      "text/plain": [
       "                 Open       High        Low  Close  Adj Close   Volume  \\\n",
       "Date                                                                     \n",
       "2018-04-02  82.849998  82.949997  82.150002  82.25      82.25  3737299   \n",
       "2018-04-03  81.500000  81.550003  81.199997  81.50      81.50  6187523   \n",
       "\n",
       "            yesterday_close  price_change  sign  \n",
       "Date                                             \n",
       "2018-04-02            82.85         -0.60    -1  \n",
       "2018-04-03            82.25         -0.75    -1  "
      ]
     },
     "execution_count": 25,
     "metadata": {},
     "output_type": "execute_result"
    }
   ],
   "source": [
    "df_ETF1[1:]"
   ]
  },
  {
   "cell_type": "code",
   "execution_count": null,
   "metadata": {},
   "outputs": [],
   "source": []
  },
  {
   "cell_type": "code",
   "execution_count": null,
   "metadata": {},
   "outputs": [],
   "source": []
  },
  {
   "cell_type": "code",
   "execution_count": 37,
   "metadata": {},
   "outputs": [],
   "source": [
    "END_DATE='2018-04-29'\n",
    "START_DATE = '2018-04-01'"
   ]
  },
  {
   "cell_type": "code",
   "execution_count": 6,
   "metadata": {},
   "outputs": [],
   "source": [
    "# manually define the name of ETF's\n",
    "etfs_1=['0050.TW','0051.TW','0052.TW','0053.TW','0054.TW','0055.TW','0056.TW','0057.TW','0058.TW',\n",
    "      '0059.TW','006201.TWO','006203.TW','006204.TW','006208.TW','00690.TW','00692.TW','00701.TW','00713.TW']"
   ]
  },
  {
   "cell_type": "code",
   "execution_count": 38,
   "metadata": {},
   "outputs": [],
   "source": [
    "# manually define the name of ETF's\n",
    "etfs_1=['0050.TW','0051.TW','0052.TW','0053.TW','0054.TW','0055.TW','0056.TW','0057.TW','0058.TW',\n",
    "      '0059.TW','006203.TW','006204.TW','006208.TW','00690.TW','00701.TW','00713.TW']"
   ]
  },
  {
   "cell_type": "code",
   "execution_count": 44,
   "metadata": {},
   "outputs": [
    {
     "name": "stdout",
     "output_type": "stream",
     "text": [
      "[*********************100%***********************]  1 of 1 downloaded\n"
     ]
    }
   ],
   "source": [
    "df_mining=web.get_data_yahoo(etfs_1[-1],START_DATE,END_DATE)"
   ]
  },
  {
   "cell_type": "code",
   "execution_count": 41,
   "metadata": {},
   "outputs": [],
   "source": [
    "def get_stock(id):\n",
    "    df=pd.DataFrame()\n",
    "    filename=('yahoo/20180424/%s.csv' %id[:-3])\n",
    "    df=web.get_data_yahoo(id,START_DATE,END_DATE)\n",
    "    #df['Adj Close']=round(df_mining['Adj Close'],2)\n",
    "    df.rename({'Adj Close':'Close'})\n",
    "    df['Volume']=round(df['Volume']/1000)\n",
    "    df = df.drop('Adj Close', 1)\n",
    "    df['Date']=df.index\n",
    "    df.to_csv(filename,index=False)"
   ]
  },
  {
   "cell_type": "code",
   "execution_count": 46,
   "metadata": {},
   "outputs": [
    {
     "data": {
      "text/plain": [
       "['00713.TW']"
      ]
     },
     "execution_count": 46,
     "metadata": {},
     "output_type": "execute_result"
    }
   ],
   "source": [
    "etfs_1[-1:]"
   ]
  },
  {
   "cell_type": "code",
   "execution_count": 47,
   "metadata": {},
   "outputs": [
    {
     "name": "stdout",
     "output_type": "stream",
     "text": [
      "[*********************100%***********************]  1 of 1 downloaded\n"
     ]
    }
   ],
   "source": [
    "for etfs0 in etfs_1:\n",
    "    get_stock(etfs0)"
   ]
  },
  {
   "cell_type": "code",
   "execution_count": 99,
   "metadata": {},
   "outputs": [
    {
     "name": "stdout",
     "output_type": "stream",
     "text": [
      "[*********************100%***********************]  1 of 1 downloaded\n"
     ]
    }
   ],
   "source": [
    "df_mining=web.get_data_yahoo('006201.TWO','2018-03-30','2018-04-24')"
   ]
  },
  {
   "cell_type": "code",
   "execution_count": 100,
   "metadata": {},
   "outputs": [
    {
     "data": {
      "text/html": [
       "<div>\n",
       "<style scoped>\n",
       "    .dataframe tbody tr th:only-of-type {\n",
       "        vertical-align: middle;\n",
       "    }\n",
       "\n",
       "    .dataframe tbody tr th {\n",
       "        vertical-align: top;\n",
       "    }\n",
       "\n",
       "    .dataframe thead th {\n",
       "        text-align: right;\n",
       "    }\n",
       "</style>\n",
       "<table border=\"1\" class=\"dataframe\">\n",
       "  <thead>\n",
       "    <tr style=\"text-align: right;\">\n",
       "      <th></th>\n",
       "    </tr>\n",
       "  </thead>\n",
       "  <tbody>\n",
       "  </tbody>\n",
       "</table>\n",
       "</div>"
      ],
      "text/plain": [
       "Empty DataFrame\n",
       "Columns: []\n",
       "Index: []"
      ]
     },
     "execution_count": 100,
     "metadata": {},
     "output_type": "execute_result"
    }
   ],
   "source": [
    "df_mining"
   ]
  },
  {
   "cell_type": "markdown",
   "metadata": {},
   "source": [
    "Use [證券櫃檯買賣中心](http://www.tpex.org.tw/web/stock/aftertrading/daily_trading_info/st43.php?l=zh-tw) if historic data can not be downloaded, for instance,  006201\n",
    "\n",
    "[00692](http://www.twse.com.tw/zh/page/trading/exchange/STOCK_DAY.html)\n",
    "\n",
    "Manually modify\n",
    "---\n",
    "1. load from office, for instance Libreoffice, by encoding big5, and save as csv again.\n",
    "2. load within Jupyter notebook to manipulate."
   ]
  },
  {
   "cell_type": "raw",
   "metadata": {},
   "source": [
    "df_mining.rename({'Adj Close':'Close'})\n",
    "\n",
    "df_mining = df_mining.drop('Adj Close', 1)\n",
    "df_mining['Date']=df_mining.index\n",
    "df_mining.to_csv('yahoo/20180424/00702.csv',index=False)"
   ]
  },
  {
   "cell_type": "code",
   "execution_count": 27,
   "metadata": {},
   "outputs": [],
   "source": [
    "df1= pd.read_csv('data1/0050.csv',index_col='Date')"
   ]
  },
  {
   "cell_type": "code",
   "execution_count": 28,
   "metadata": {},
   "outputs": [
    {
     "data": {
      "text/html": [
       "<div>\n",
       "<style scoped>\n",
       "    .dataframe tbody tr th:only-of-type {\n",
       "        vertical-align: middle;\n",
       "    }\n",
       "\n",
       "    .dataframe tbody tr th {\n",
       "        vertical-align: top;\n",
       "    }\n",
       "\n",
       "    .dataframe thead th {\n",
       "        text-align: right;\n",
       "    }\n",
       "</style>\n",
       "<table border=\"1\" class=\"dataframe\">\n",
       "  <thead>\n",
       "    <tr style=\"text-align: right;\">\n",
       "      <th></th>\n",
       "      <th>code</th>\n",
       "      <th>date</th>\n",
       "      <th>Name</th>\n",
       "      <th>Open</th>\n",
       "      <th>High</th>\n",
       "      <th>Low</th>\n",
       "      <th>Close</th>\n",
       "      <th>Volume</th>\n",
       "      <th>weekday</th>\n",
       "      <th>yesterday_close</th>\n",
       "      <th>yesterday_volume</th>\n",
       "      <th>price_change</th>\n",
       "      <th>volume_change</th>\n",
       "      <th>sign</th>\n",
       "    </tr>\n",
       "    <tr>\n",
       "      <th>Date</th>\n",
       "      <th></th>\n",
       "      <th></th>\n",
       "      <th></th>\n",
       "      <th></th>\n",
       "      <th></th>\n",
       "      <th></th>\n",
       "      <th></th>\n",
       "      <th></th>\n",
       "      <th></th>\n",
       "      <th></th>\n",
       "      <th></th>\n",
       "      <th></th>\n",
       "      <th></th>\n",
       "      <th></th>\n",
       "    </tr>\n",
       "  </thead>\n",
       "  <tbody>\n",
       "    <tr>\n",
       "      <th>2013-01-02</th>\n",
       "      <td>50</td>\n",
       "      <td>20130102</td>\n",
       "      <td>元大台灣50</td>\n",
       "      <td>46.57</td>\n",
       "      <td>47.13</td>\n",
       "      <td>46.49</td>\n",
       "      <td>46.92</td>\n",
       "      <td>16487.0</td>\n",
       "      <td>2</td>\n",
       "      <td>0.00</td>\n",
       "      <td>0.0</td>\n",
       "      <td>46.92</td>\n",
       "      <td>16487.0</td>\n",
       "      <td>1</td>\n",
       "    </tr>\n",
       "    <tr>\n",
       "      <th>2013-01-03</th>\n",
       "      <td>50</td>\n",
       "      <td>20130103</td>\n",
       "      <td>元大台灣50</td>\n",
       "      <td>47.35</td>\n",
       "      <td>47.48</td>\n",
       "      <td>47.13</td>\n",
       "      <td>47.31</td>\n",
       "      <td>29020.0</td>\n",
       "      <td>3</td>\n",
       "      <td>46.92</td>\n",
       "      <td>16487.0</td>\n",
       "      <td>0.39</td>\n",
       "      <td>12533.0</td>\n",
       "      <td>1</td>\n",
       "    </tr>\n",
       "    <tr>\n",
       "      <th>2013-01-04</th>\n",
       "      <td>50</td>\n",
       "      <td>20130104</td>\n",
       "      <td>元大台灣50</td>\n",
       "      <td>47.31</td>\n",
       "      <td>47.31</td>\n",
       "      <td>46.92</td>\n",
       "      <td>47.00</td>\n",
       "      <td>9837.0</td>\n",
       "      <td>4</td>\n",
       "      <td>47.31</td>\n",
       "      <td>29020.0</td>\n",
       "      <td>-0.31</td>\n",
       "      <td>-19183.0</td>\n",
       "      <td>-1</td>\n",
       "    </tr>\n",
       "    <tr>\n",
       "      <th>2013-01-07</th>\n",
       "      <td>50</td>\n",
       "      <td>20130107</td>\n",
       "      <td>元大台灣50</td>\n",
       "      <td>47.05</td>\n",
       "      <td>47.05</td>\n",
       "      <td>46.49</td>\n",
       "      <td>46.79</td>\n",
       "      <td>8910.0</td>\n",
       "      <td>0</td>\n",
       "      <td>47.00</td>\n",
       "      <td>9837.0</td>\n",
       "      <td>-0.21</td>\n",
       "      <td>-927.0</td>\n",
       "      <td>-1</td>\n",
       "    </tr>\n",
       "    <tr>\n",
       "      <th>2013-01-08</th>\n",
       "      <td>50</td>\n",
       "      <td>20130108</td>\n",
       "      <td>元大台灣50</td>\n",
       "      <td>46.57</td>\n",
       "      <td>46.75</td>\n",
       "      <td>46.27</td>\n",
       "      <td>46.49</td>\n",
       "      <td>12507.0</td>\n",
       "      <td>1</td>\n",
       "      <td>46.79</td>\n",
       "      <td>8910.0</td>\n",
       "      <td>-0.30</td>\n",
       "      <td>3597.0</td>\n",
       "      <td>-1</td>\n",
       "    </tr>\n",
       "  </tbody>\n",
       "</table>\n",
       "</div>"
      ],
      "text/plain": [
       "            code      date              Name   Open   High    Low  Close  \\\n",
       "Date                                                                       \n",
       "2013-01-02    50  20130102  元大台灣50            46.57  47.13  46.49  46.92   \n",
       "2013-01-03    50  20130103  元大台灣50            47.35  47.48  47.13  47.31   \n",
       "2013-01-04    50  20130104  元大台灣50            47.31  47.31  46.92  47.00   \n",
       "2013-01-07    50  20130107  元大台灣50            47.05  47.05  46.49  46.79   \n",
       "2013-01-08    50  20130108  元大台灣50            46.57  46.75  46.27  46.49   \n",
       "\n",
       "             Volume  weekday  yesterday_close  yesterday_volume  price_change  \\\n",
       "Date                                                                            \n",
       "2013-01-02  16487.0        2             0.00               0.0         46.92   \n",
       "2013-01-03  29020.0        3            46.92           16487.0          0.39   \n",
       "2013-01-04   9837.0        4            47.31           29020.0         -0.31   \n",
       "2013-01-07   8910.0        0            47.00            9837.0         -0.21   \n",
       "2013-01-08  12507.0        1            46.79            8910.0         -0.30   \n",
       "\n",
       "            volume_change  sign  \n",
       "Date                             \n",
       "2013-01-02        16487.0     1  \n",
       "2013-01-03        12533.0     1  \n",
       "2013-01-04       -19183.0    -1  \n",
       "2013-01-07         -927.0    -1  \n",
       "2013-01-08         3597.0    -1  "
      ]
     },
     "execution_count": 28,
     "metadata": {},
     "output_type": "execute_result"
    }
   ],
   "source": [
    "df1.head()"
   ]
  },
  {
   "cell_type": "code",
   "execution_count": 58,
   "metadata": {},
   "outputs": [],
   "source": [
    "def df_update():\n",
    "    for ind in etfs_1:\n",
    "        ind_tmp1='data1/%s.csv' %ind[:-3]\n",
    "        ind_tmp2='yahoo/20180424/%s.csv' %ind[:-3]\n",
    "        df1= pd.read_csv(ind_tmp1,index_col='Date')\n",
    "        df2= pd.read_csv(ind_tmp2,index_col='Date')\n",
    "        #print(len(df1))\n",
    "        res = pd.concat([df1, df2]).copy()\n",
    "        #print(res.tail(2))\n",
    "        res=res.fillna(0)\n",
    "        df_concat(res,code=ind[:-3])\n",
    "        print('Processing id = %s completed ...' %ind[:-3])"
   ]
  },
  {
   "cell_type": "code",
   "execution_count": null,
   "metadata": {},
   "outputs": [],
   "source": []
  },
  {
   "cell_type": "code",
   "execution_count": 59,
   "metadata": {},
   "outputs": [
    {
     "name": "stdout",
     "output_type": "stream",
     "text": [
      "Processing id = 0050 completed ...\n",
      "Processing id = 0051 completed ...\n",
      "Processing id = 0052 completed ...\n",
      "Processing id = 0053 completed ...\n",
      "Processing id = 0054 completed ...\n",
      "Processing id = 0055 completed ...\n",
      "Processing id = 0056 completed ...\n",
      "Processing id = 0057 completed ...\n",
      "Processing id = 0058 completed ...\n",
      "Processing id = 0059 completed ...\n",
      "Processing id = 006203 completed ...\n",
      "Processing id = 006204 completed ...\n",
      "Processing id = 006208 completed ...\n",
      "Processing id = 00690 completed ...\n",
      "Processing id = 00701 completed ...\n",
      "Processing id = 00713 completed ...\n"
     ]
    }
   ],
   "source": [
    "df_update()"
   ]
  },
  {
   "cell_type": "code",
   "execution_count": 29,
   "metadata": {},
   "outputs": [],
   "source": [
    "df2= pd.read_csv('yahoo/20180424/0050.csv',index_col='Date')"
   ]
  },
  {
   "cell_type": "code",
   "execution_count": 30,
   "metadata": {},
   "outputs": [],
   "source": [
    "res = pd.concat([df1, df2])"
   ]
  },
  {
   "cell_type": "code",
   "execution_count": 31,
   "metadata": {},
   "outputs": [],
   "source": [
    "res=res.fillna(0)"
   ]
  },
  {
   "cell_type": "code",
   "execution_count": 56,
   "metadata": {},
   "outputs": [],
   "source": [
    "def df_concat(df,code='0050'):\n",
    "    \"\"\"\n",
    "    Clean Concat dataframe\n",
    "    \"\"\"\n",
    "    # round floating with 2-decimals, for Close,Low,High,Open\n",
    "    df['Close']=round(df['Close'],2)\n",
    "    df['High']=round(df['High'],2)\n",
    "    df['Low']=round(df['Low'],2)\n",
    "    df['Open']=round(df['Open'],2)\n",
    "    \n",
    "    # keep name with wgitespace striped\n",
    "    df['Name']=df['Name'][0:1].values[0].strip()\n",
    "\n",
    "    # Convert volume into integer\n",
    "    df['Volume']=df['Volume'].astype(int)\n",
    "    \n",
    "    # convert code into integer \n",
    "    #code=res['code'][0:1].values[0].astype(int)\n",
    "    #code=code.astype(int)\n",
    "    df['code']=code\n",
    "    \n",
    "    # convert Datetime into integer and create new Date column\n",
    "    df['date']=pd.to_datetime(df.index).strftime('%Y%m%d')\n",
    "    df['Date']=df.index\n",
    "    \n",
    "    # splite datestamp into year,month,day\n",
    "    df['dat']=pd.to_datetime(df.index)\n",
    "    df['year']=df['dat'].dt.year\n",
    "    df['month']=df['dat'].dt.month\n",
    "    df['day']=df['dat'].dt.day\n",
    "    \n",
    "    df1=df[['Date','date','Name','code','Open','High','Low','Close','Volume','year','month','day']]\n",
    "    name='yahoo/update/%s.csv' %code\n",
    "    df1.to_csv(name,index=False)\n"
   ]
  },
  {
   "cell_type": "code",
   "execution_count": 32,
   "metadata": {},
   "outputs": [],
   "source": [
    "df_concat(res)"
   ]
  },
  {
   "cell_type": "code",
   "execution_count": 5,
   "metadata": {},
   "outputs": [],
   "source": [
    "!mkdir yahoo/update"
   ]
  },
  {
   "cell_type": "code",
   "execution_count": null,
   "metadata": {},
   "outputs": [],
   "source": []
  },
  {
   "cell_type": "markdown",
   "metadata": {},
   "source": [
    "00692 Concat\n",
    "---"
   ]
  },
  {
   "cell_type": "code",
   "execution_count": 82,
   "metadata": {},
   "outputs": [],
   "source": [
    "df1_00692= pd.read_csv('data1/00692.csv',index_col='Date')"
   ]
  },
  {
   "cell_type": "code",
   "execution_count": 61,
   "metadata": {},
   "outputs": [
    {
     "data": {
      "text/html": [
       "<div>\n",
       "<style scoped>\n",
       "    .dataframe tbody tr th:only-of-type {\n",
       "        vertical-align: middle;\n",
       "    }\n",
       "\n",
       "    .dataframe tbody tr th {\n",
       "        vertical-align: top;\n",
       "    }\n",
       "\n",
       "    .dataframe thead th {\n",
       "        text-align: right;\n",
       "    }\n",
       "</style>\n",
       "<table border=\"1\" class=\"dataframe\">\n",
       "  <thead>\n",
       "    <tr style=\"text-align: right;\">\n",
       "      <th></th>\n",
       "      <th>code</th>\n",
       "      <th>date</th>\n",
       "      <th>Name</th>\n",
       "      <th>Open</th>\n",
       "      <th>High</th>\n",
       "      <th>Low</th>\n",
       "      <th>Close</th>\n",
       "      <th>Volume</th>\n",
       "      <th>weekday</th>\n",
       "      <th>yesterday_close</th>\n",
       "      <th>yesterday_volume</th>\n",
       "      <th>price_change</th>\n",
       "      <th>volume_change</th>\n",
       "      <th>sign</th>\n",
       "    </tr>\n",
       "    <tr>\n",
       "      <th>Date</th>\n",
       "      <th></th>\n",
       "      <th></th>\n",
       "      <th></th>\n",
       "      <th></th>\n",
       "      <th></th>\n",
       "      <th></th>\n",
       "      <th></th>\n",
       "      <th></th>\n",
       "      <th></th>\n",
       "      <th></th>\n",
       "      <th></th>\n",
       "      <th></th>\n",
       "      <th></th>\n",
       "      <th></th>\n",
       "    </tr>\n",
       "  </thead>\n",
       "  <tbody>\n",
       "    <tr>\n",
       "      <th>2018-03-30</th>\n",
       "      <td>692</td>\n",
       "      <td>20180330</td>\n",
       "      <td>富邦公司治理</td>\n",
       "      <td>21.53</td>\n",
       "      <td>21.67</td>\n",
       "      <td>21.53</td>\n",
       "      <td>21.64</td>\n",
       "      <td>569.0</td>\n",
       "      <td>4</td>\n",
       "      <td>21.51</td>\n",
       "      <td>586.0</td>\n",
       "      <td>0.13</td>\n",
       "      <td>-17.0</td>\n",
       "      <td>1</td>\n",
       "    </tr>\n",
       "    <tr>\n",
       "      <th>2018-03-31</th>\n",
       "      <td>692</td>\n",
       "      <td>20180331</td>\n",
       "      <td>富邦公司治理</td>\n",
       "      <td>21.65</td>\n",
       "      <td>21.65</td>\n",
       "      <td>21.63</td>\n",
       "      <td>21.65</td>\n",
       "      <td>511.0</td>\n",
       "      <td>5</td>\n",
       "      <td>21.64</td>\n",
       "      <td>569.0</td>\n",
       "      <td>0.01</td>\n",
       "      <td>-58.0</td>\n",
       "      <td>1</td>\n",
       "    </tr>\n",
       "  </tbody>\n",
       "</table>\n",
       "</div>"
      ],
      "text/plain": [
       "            code      date            Name   Open   High    Low  Close  \\\n",
       "Date                                                                     \n",
       "2018-03-30   692  20180330  富邦公司治理          21.53  21.67  21.53  21.64   \n",
       "2018-03-31   692  20180331  富邦公司治理          21.65  21.65  21.63  21.65   \n",
       "\n",
       "            Volume  weekday  yesterday_close  yesterday_volume  price_change  \\\n",
       "Date                                                                           \n",
       "2018-03-30   569.0        4            21.51             586.0          0.13   \n",
       "2018-03-31   511.0        5            21.64             569.0          0.01   \n",
       "\n",
       "            volume_change  sign  \n",
       "Date                             \n",
       "2018-03-30          -17.0     1  \n",
       "2018-03-31          -58.0     1  "
      ]
     },
     "execution_count": 61,
     "metadata": {},
     "output_type": "execute_result"
    }
   ],
   "source": [
    "df1_00692.tail(2)"
   ]
  },
  {
   "cell_type": "code",
   "execution_count": null,
   "metadata": {},
   "outputs": [],
   "source": []
  },
  {
   "cell_type": "code",
   "execution_count": 73,
   "metadata": {},
   "outputs": [
    {
     "data": {
      "text/html": [
       "<div>\n",
       "<style scoped>\n",
       "    .dataframe tbody tr th:only-of-type {\n",
       "        vertical-align: middle;\n",
       "    }\n",
       "\n",
       "    .dataframe tbody tr th {\n",
       "        vertical-align: top;\n",
       "    }\n",
       "\n",
       "    .dataframe thead th {\n",
       "        text-align: right;\n",
       "    }\n",
       "</style>\n",
       "<table border=\"1\" class=\"dataframe\">\n",
       "  <thead>\n",
       "    <tr style=\"text-align: right;\">\n",
       "      <th></th>\n",
       "      <th>Volume</th>\n",
       "      <th>成交金額</th>\n",
       "      <th>Open</th>\n",
       "      <th>High</th>\n",
       "      <th>Low</th>\n",
       "      <th>Close</th>\n",
       "      <th>漲跌價差</th>\n",
       "      <th>成交筆數</th>\n",
       "    </tr>\n",
       "    <tr>\n",
       "      <th>Date</th>\n",
       "      <th></th>\n",
       "      <th></th>\n",
       "      <th></th>\n",
       "      <th></th>\n",
       "      <th></th>\n",
       "      <th></th>\n",
       "      <th></th>\n",
       "      <th></th>\n",
       "    </tr>\n",
       "  </thead>\n",
       "  <tbody>\n",
       "    <tr>\n",
       "      <th>2018-04-26</th>\n",
       "      <td>1265163</td>\n",
       "      <td>26358453</td>\n",
       "      <td>20.98</td>\n",
       "      <td>20.98</td>\n",
       "      <td>20.74</td>\n",
       "      <td>20.78</td>\n",
       "      <td>-0.16</td>\n",
       "      <td>532</td>\n",
       "    </tr>\n",
       "    <tr>\n",
       "      <th>2018-04-27</th>\n",
       "      <td>811166</td>\n",
       "      <td>16865470</td>\n",
       "      <td>20.88</td>\n",
       "      <td>20.88</td>\n",
       "      <td>20.76</td>\n",
       "      <td>20.84</td>\n",
       "      <td>0.06</td>\n",
       "      <td>235</td>\n",
       "    </tr>\n",
       "  </tbody>\n",
       "</table>\n",
       "</div>"
      ],
      "text/plain": [
       "             Volume      成交金額   Open   High    Low  Close  漲跌價差  成交筆數\n",
       "Date                                                                 \n",
       "2018-04-26  1265163  26358453  20.98  20.98  20.74  20.78 -0.16   532\n",
       "2018-04-27   811166  16865470  20.88  20.88  20.76  20.84  0.06   235"
      ]
     },
     "execution_count": 73,
     "metadata": {},
     "output_type": "execute_result"
    }
   ],
   "source": [
    "df2_00692= pd.read_csv('yahoo/20180424/00692.csv',index_col='Date')\n"
   ]
  },
  {
   "cell_type": "code",
   "execution_count": 77,
   "metadata": {},
   "outputs": [],
   "source": [
    "df2_00692['Volume']=round(df2_00692.Volume/1000).astype(int)"
   ]
  },
  {
   "cell_type": "code",
   "execution_count": 78,
   "metadata": {},
   "outputs": [
    {
     "data": {
      "text/html": [
       "<div>\n",
       "<style scoped>\n",
       "    .dataframe tbody tr th:only-of-type {\n",
       "        vertical-align: middle;\n",
       "    }\n",
       "\n",
       "    .dataframe tbody tr th {\n",
       "        vertical-align: top;\n",
       "    }\n",
       "\n",
       "    .dataframe thead th {\n",
       "        text-align: right;\n",
       "    }\n",
       "</style>\n",
       "<table border=\"1\" class=\"dataframe\">\n",
       "  <thead>\n",
       "    <tr style=\"text-align: right;\">\n",
       "      <th></th>\n",
       "      <th>Volume</th>\n",
       "      <th>成交金額</th>\n",
       "      <th>Open</th>\n",
       "      <th>High</th>\n",
       "      <th>Low</th>\n",
       "      <th>Close</th>\n",
       "      <th>漲跌價差</th>\n",
       "      <th>成交筆數</th>\n",
       "    </tr>\n",
       "    <tr>\n",
       "      <th>Date</th>\n",
       "      <th></th>\n",
       "      <th></th>\n",
       "      <th></th>\n",
       "      <th></th>\n",
       "      <th></th>\n",
       "      <th></th>\n",
       "      <th></th>\n",
       "      <th></th>\n",
       "    </tr>\n",
       "  </thead>\n",
       "  <tbody>\n",
       "    <tr>\n",
       "      <th>2018-04-26</th>\n",
       "      <td>1265</td>\n",
       "      <td>26358453</td>\n",
       "      <td>20.98</td>\n",
       "      <td>20.98</td>\n",
       "      <td>20.74</td>\n",
       "      <td>20.78</td>\n",
       "      <td>-0.16</td>\n",
       "      <td>532</td>\n",
       "    </tr>\n",
       "    <tr>\n",
       "      <th>2018-04-27</th>\n",
       "      <td>811</td>\n",
       "      <td>16865470</td>\n",
       "      <td>20.88</td>\n",
       "      <td>20.88</td>\n",
       "      <td>20.76</td>\n",
       "      <td>20.84</td>\n",
       "      <td>0.06</td>\n",
       "      <td>235</td>\n",
       "    </tr>\n",
       "  </tbody>\n",
       "</table>\n",
       "</div>"
      ],
      "text/plain": [
       "            Volume      成交金額   Open   High    Low  Close  漲跌價差  成交筆數\n",
       "Date                                                                \n",
       "2018-04-26    1265  26358453  20.98  20.98  20.74  20.78 -0.16   532\n",
       "2018-04-27     811  16865470  20.88  20.88  20.76  20.84  0.06   235"
      ]
     },
     "execution_count": 78,
     "metadata": {},
     "output_type": "execute_result"
    }
   ],
   "source": [
    "df2_00692.tail(2)"
   ]
  },
  {
   "cell_type": "code",
   "execution_count": 79,
   "metadata": {},
   "outputs": [],
   "source": [
    "df2_00692_1=df2_00692[['Volume','Open','High','Low','Close']]"
   ]
  },
  {
   "cell_type": "code",
   "execution_count": 80,
   "metadata": {},
   "outputs": [
    {
     "data": {
      "text/html": [
       "<div>\n",
       "<style scoped>\n",
       "    .dataframe tbody tr th:only-of-type {\n",
       "        vertical-align: middle;\n",
       "    }\n",
       "\n",
       "    .dataframe tbody tr th {\n",
       "        vertical-align: top;\n",
       "    }\n",
       "\n",
       "    .dataframe thead th {\n",
       "        text-align: right;\n",
       "    }\n",
       "</style>\n",
       "<table border=\"1\" class=\"dataframe\">\n",
       "  <thead>\n",
       "    <tr style=\"text-align: right;\">\n",
       "      <th></th>\n",
       "      <th>Volume</th>\n",
       "      <th>Open</th>\n",
       "      <th>High</th>\n",
       "      <th>Low</th>\n",
       "      <th>Close</th>\n",
       "    </tr>\n",
       "    <tr>\n",
       "      <th>Date</th>\n",
       "      <th></th>\n",
       "      <th></th>\n",
       "      <th></th>\n",
       "      <th></th>\n",
       "      <th></th>\n",
       "    </tr>\n",
       "  </thead>\n",
       "  <tbody>\n",
       "    <tr>\n",
       "      <th>2018-04-26</th>\n",
       "      <td>1265</td>\n",
       "      <td>20.98</td>\n",
       "      <td>20.98</td>\n",
       "      <td>20.74</td>\n",
       "      <td>20.78</td>\n",
       "    </tr>\n",
       "    <tr>\n",
       "      <th>2018-04-27</th>\n",
       "      <td>811</td>\n",
       "      <td>20.88</td>\n",
       "      <td>20.88</td>\n",
       "      <td>20.76</td>\n",
       "      <td>20.84</td>\n",
       "    </tr>\n",
       "  </tbody>\n",
       "</table>\n",
       "</div>"
      ],
      "text/plain": [
       "            Volume   Open   High    Low  Close\n",
       "Date                                          \n",
       "2018-04-26    1265  20.98  20.98  20.74  20.78\n",
       "2018-04-27     811  20.88  20.88  20.76  20.84"
      ]
     },
     "execution_count": 80,
     "metadata": {},
     "output_type": "execute_result"
    }
   ],
   "source": [
    "df2_00692_1.tail(2)"
   ]
  },
  {
   "cell_type": "code",
   "execution_count": 83,
   "metadata": {},
   "outputs": [],
   "source": [
    "res = pd.concat([df1_00692, df2_00692_1])"
   ]
  },
  {
   "cell_type": "code",
   "execution_count": 84,
   "metadata": {},
   "outputs": [],
   "source": [
    "res=res.fillna(0)"
   ]
  },
  {
   "cell_type": "code",
   "execution_count": 85,
   "metadata": {},
   "outputs": [],
   "source": [
    "df_concat(res,code='00692')"
   ]
  },
  {
   "cell_type": "markdown",
   "metadata": {},
   "source": [
    "006201 Concat\n",
    "---"
   ]
  },
  {
   "cell_type": "code",
   "execution_count": 86,
   "metadata": {},
   "outputs": [],
   "source": [
    "df1_006201= pd.read_csv('data1/006201.csv',index_col='Date')"
   ]
  },
  {
   "cell_type": "code",
   "execution_count": 87,
   "metadata": {},
   "outputs": [],
   "source": [
    "df2_006201= pd.read_csv('yahoo/20180424/006201.csv',index_col='Date')"
   ]
  },
  {
   "cell_type": "code",
   "execution_count": 88,
   "metadata": {},
   "outputs": [],
   "source": [
    "df2_006201_1=df2_006201[['Volume','Open','High','Low','Close']]"
   ]
  },
  {
   "cell_type": "code",
   "execution_count": 89,
   "metadata": {},
   "outputs": [],
   "source": [
    "res = pd.concat([df1_006201, df2_006201_1])"
   ]
  },
  {
   "cell_type": "code",
   "execution_count": 90,
   "metadata": {},
   "outputs": [],
   "source": [
    "res=res.fillna(0)"
   ]
  },
  {
   "cell_type": "code",
   "execution_count": 91,
   "metadata": {},
   "outputs": [],
   "source": [
    "df_concat(res,code='006201')"
   ]
  },
  {
   "cell_type": "code",
   "execution_count": null,
   "metadata": {},
   "outputs": [],
   "source": []
  },
  {
   "cell_type": "code",
   "execution_count": null,
   "metadata": {},
   "outputs": [],
   "source": []
  },
  {
   "cell_type": "code",
   "execution_count": null,
   "metadata": {},
   "outputs": [],
   "source": []
  },
  {
   "cell_type": "markdown",
   "metadata": {},
   "source": [
    "Prediction by ML\n",
    "---\n",
    "Making Predictio by fbprophet only requires one date, we want to survey, with time; simplicy is alike Linear Regression scheme. However, data comes not only  involving historic data but more concerned factors. Explore more factors should get better prediction. Furthermore, the predicted column is dependent on other columns; to predict the data always requires \n",
    "other columns but also lack as same as column which we want to predict.\n",
    "\n",
    "Thus, we integrate the way to make a scheme to make prediction:\n",
    "1. use grey-box alogrithm to generate the data, predict column with others, in the future.\n",
    "- use general ML scheme, (Decision Tree, random forest, Gradient Boost Method, xgboost, Neural Network scheme, etc) to make predition.  "
   ]
  }
 ],
 "metadata": {
  "kernelspec": {
   "display_name": "Python 3",
   "language": "python",
   "name": "python3"
  },
  "language_info": {
   "codemirror_mode": {
    "name": "ipython",
    "version": 3
   },
   "file_extension": ".py",
   "mimetype": "text/x-python",
   "name": "python",
   "nbconvert_exporter": "python",
   "pygments_lexer": "ipython3",
   "version": "3.6.1"
  },
  "toc": {
   "colors": {
    "hover_highlight": "#DAA520",
    "navigate_num": "#000000",
    "navigate_text": "#333333",
    "running_highlight": "#FF0000",
    "selected_highlight": "#FFD700",
    "sidebar_border": "#EEEEEE",
    "wrapper_background": "#FFFFFF"
   },
   "moveMenuLeft": true,
   "nav_menu": {
    "height": "12px",
    "width": "252px"
   },
   "navigate_menu": true,
   "number_sections": true,
   "sideBar": true,
   "threshold": 4,
   "toc_cell": false,
   "toc_section_display": "block",
   "toc_window_display": false,
   "widenNotebook": false
  }
 },
 "nbformat": 4,
 "nbformat_minor": 2
}
