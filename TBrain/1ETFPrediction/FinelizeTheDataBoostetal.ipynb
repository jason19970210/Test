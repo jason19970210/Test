{
 "cells": [
  {
   "cell_type": "markdown",
   "metadata": {},
   "source": [
    "Challenge Begins\n",
    "---\n",
    "<div class=\"alert alert-block alert-success\">\n",
    "As time flies, Now the time let us attend compettiion:\n",
    "\n",
    "[Tbrain by Trend-Micro](https://tbrain.trendmicro.com.tw)  台灣 ETF 價格預測競賽"
   ]
  },
  {
   "cell_type": "markdown",
   "metadata": {},
   "source": [
    " <div class=\"alert alert-block alert-warning\">\n",
    "1. Huge data file: the way to read a data file, chunk by chunk,\n",
    "```python\n",
    "chunksize = 10 ** 6\n",
    "for chunk in pd.read_csv(filename, chunksize=chunksize):\n",
    "       process(chunk)\n",
    "```    "
   ]
  },
  {
   "cell_type": "markdown",
   "metadata": {},
   "source": [
    "<div style=\"font-size:1.4em;\">\n",
    "    \n",
    "|序號|欄位|說明|\n",
    "|-:|-:|-:|\n",
    "|0|ETFid|ETF 代號|\n",
    "| 1| Mon_ud | 周一漲跌 (1:漲, 0:平, -1:跌) 50% |\n",
    "| 2| Mon_cprice| 周一收盤價 (權重 50%) |\n",
    "| 3| Tue_ud | 周二漲跌 (1:漲, 0:平, -1:跌) 50% |\n",
    "| 4| Tue_cprice| 周二收盤價 (權重 50%) |\n",
    "| 5| Wed_ud | 周三漲跌 (1:漲, 0:平, -1:跌) 50% |\n",
    "| 6| Wed_cprice| 周三收盤價 (權重 50%) |\n",
    "| 7| Thu_ud | 周四漲跌 (1:漲, 0:平, -1:跌) 50% |\n",
    "| 8| Thu_cprice| 周四收盤價 (權重 50%) |\n",
    "| 9| Fri_ud | 周五漲跌 (1:漲, 0:平, -1:跌) 50% |\n",
    "| 10| Fri_cprice| 周五收盤價 (權重 50%) |\n",
    "\n",
    "</div>\n",
    "<div class=\"alert alert-block alert-info\">\n",
    "Sample\n",
    "\n",
    "```\n",
    "ETFid,Mon_ud,Mon_cprice,Tue_ud,Tue_cprice,Wed_ud,Wed_cprice,Thu_ud,Thu_cprice,Fri_ud,Fri_cprice\n",
    "0050,1,87.15,1,88.05,-1,88.00,-1,87.25,1,87.45\n",
    "...\n",
    "```"
   ]
  },
  {
   "cell_type": "code",
   "execution_count": 1,
   "metadata": {},
   "outputs": [],
   "source": [
    "#from hmmlearn.hmm import GaussianHMM\n",
    "import numpy as np\n",
    "from matplotlib import cm, pyplot as plt\n",
    "import matplotlib.dates as dates\n",
    "import pandas as pd\n",
    "import datetime"
   ]
  },
  {
   "cell_type": "code",
   "execution_count": 2,
   "metadata": {},
   "outputs": [],
   "source": [
    "import warnings\n",
    "warnings.filterwarnings('ignore')\n"
   ]
  },
  {
   "cell_type": "code",
   "execution_count": 3,
   "metadata": {},
   "outputs": [],
   "source": [
    "import pandas as pd\n",
    "import numpy as np\n",
    "\n",
    "from fbprophet import Prophet\n",
    "#import pandas_profiling as pp\n",
    "#from matplotlib import cm, pyplot as plt\n",
    "import matplotlib.dates as dates\n",
    "#import pandas_datareader.data as web\n",
    "from pandas_datareader import data as web\n",
    "import datetime\n",
    "#from hmmlearn.hmm import GaussianHMM\n",
    "\n",
    "import fix_yahoo_finance as yf\n",
    "yf.pdr_override()"
   ]
  },
  {
   "cell_type": "code",
   "execution_count": 5,
   "metadata": {},
   "outputs": [],
   "source": [
    "# up to 2018-05-04 and predict 2018-05-07~2018-05-11\n",
    "# data folder: yahoo/20180504/0050.csv ... \n",
    "\n",
    "SaveDirectory = \"yahoo/20180504\""
   ]
  },
  {
   "cell_type": "code",
   "execution_count": null,
   "metadata": {},
   "outputs": [],
   "source": []
  },
  {
   "cell_type": "code",
   "execution_count": null,
   "metadata": {},
   "outputs": [],
   "source": []
  },
  {
   "cell_type": "markdown",
   "metadata": {},
   "source": [
    "Boosting\n",
    "---\n",
    "\n",
    "**adaboost**\n",
    "\n",
    "Initialize a Sequence of categrories of $n$ sample, $M=(M_i)_{i}= (M_1,M_2,\\cdots,M_m)$; and improve the accuracy of training based on the previous results.\n",
    "\n",
    "1. assign weight, $s=(s_i)_n$, for each sample.\n",
    "- training and calculate accuracy\n",
    "- evaluate whether each sample is in the right categrory; if not, increate the weight, correct the fault in the next training;\n",
    "- repeate 2-3 while the $M$ is confirmed;\n",
    "- normailze sum of accuracies of $M$ being 1, says $(w)=(w_i)$ and get the model as\n",
    " $$ M=\\sum_{i=1}^m w_iM_i=\\mathbf{w\\cdot M}$$"
   ]
  },
  {
   "cell_type": "code",
   "execution_count": 105,
   "metadata": {},
   "outputs": [],
   "source": [
    "df0050_date=pd.read_csv(\"yahoo/20180504/0050.csv\",index_col='Date') \n",
    "df0050_date.index=pd.to_datetime(df0050_date.index)"
   ]
  },
  {
   "cell_type": "code",
   "execution_count": 106,
   "metadata": {},
   "outputs": [],
   "source": [
    "from sklearn.ensemble import AdaBoostRegressor\n",
    "\n",
    "def adaboost(df,nEstimators=100):\n",
    "    \n",
    "    estimator = AdaBoostRegressor(n_estimators=nEstimators)\n",
    "    X=(df.index - df.index[0]).days.values.reshape(-1, 1)\n",
    "    Y=df.Close\n",
    "\n",
    "    # Train the model using the training sets\n",
    "    estimator.fit(X,Y)\n",
    "    return estimator"
   ]
  },
  {
   "cell_type": "code",
   "execution_count": 107,
   "metadata": {},
   "outputs": [],
   "source": [
    "AdaBoostEstimator=adaboost(df0050_date)\n"
   ]
  },
  {
   "cell_type": "code",
   "execution_count": 108,
   "metadata": {},
   "outputs": [],
   "source": [
    "X=(df0050_date.index - df0050_date.index[0]).days.values.reshape(-1, 1)\n",
    "Y=df0050_date.Close"
   ]
  },
  {
   "cell_type": "code",
   "execution_count": null,
   "metadata": {},
   "outputs": [],
   "source": []
  },
  {
   "cell_type": "code",
   "execution_count": 95,
   "metadata": {},
   "outputs": [],
   "source": [
    "Y_pred_adaboost = AdaBoostEstimator.predict(X)\n"
   ]
  },
  {
   "cell_type": "code",
   "execution_count": 96,
   "metadata": {},
   "outputs": [
    {
     "data": {
      "text/plain": [
       "<matplotlib.legend.Legend at 0x10d0c4b38>"
      ]
     },
     "execution_count": 96,
     "metadata": {},
     "output_type": "execute_result"
    },
    {
     "data": {
      "image/png": "[encoded data removed]",
      "text/plain": [
       "<Figure size 864x432 with 1 Axes>"
      ]
     },
     "metadata": {},
     "output_type": "display_data"
    }
   ],
   "source": [
    "plt.figure(figsize=(12,6))\n",
    "plt.style.use('fivethirtyeight')\n",
    "plt.step(X,Y,label='Real Data')\n",
    "plt.step(X,Y_pred_adaboost,'k--',label='Adaboost',alpha=0.5)\n",
    "\n",
    "plt.legend()"
   ]
  },
  {
   "cell_type": "code",
   "execution_count": 70,
   "metadata": {},
   "outputs": [
    {
     "name": "stdout",
     "output_type": "stream",
     "text": [
      "Prediction of AdaBoost\n",
      "Mean squared error: 0.18\n",
      "Variance score: 0.94\n"
     ]
    }
   ],
   "source": [
    "from sklearn.metrics import mean_squared_error, r2_score\n",
    "\n",
    "# The coefficients\n",
    "print('Prediction of AdaBoost')\n",
    "print(\"Mean squared error: %.2f\"\n",
    "      % mean_squared_error(Y, Y_pred_adaboost))\n",
    "# Explained variance score: 1 is perfect prediction\n",
    "print('Variance score: %.2f' % r2_score(Y, Y_pred_adaboost))\n"
   ]
  },
  {
   "cell_type": "markdown",
   "metadata": {},
   "source": [
    "Another Boost Model, Gradient-Boosting\n",
    "---\n",
    "Not based on correcting previous training, but on the difference between real data and previous prediction.\n"
   ]
  },
  {
   "cell_type": "markdown",
   "metadata": {},
   "source": [
    "Decision Tree\n",
    "---\n",
    "Decision tree alothim is an efficient way to make a tree-like graphic where we can start at the \"root\" and traverse our way down by making decisions at the \"branches\" before finally ending up at a \"leaf\" that gives you the prediction.\n",
    "\n",
    "The general steps for building a (regression) decision tree are as follows:\n",
    "\n",
    "1. At beginning, start with the sample $S$, and Feature set $F={f_1,f_2,\\cdots}$.\n",
    "- entropy of information is defined as follows:\n",
    "$$ \\text{Entropy}= -\\sum_i p_i\\log_2p_i$$\n",
    "$$ \\text{MSE}=\\frac{1}{n}\\sqrt{\\sum_i^n(\\hat {x_i\\!}-x_i)^2}$$\n",
    "- Find the degree of decend for partition Samples with each features and find out which one is fastest, for instance:\n",
    "$$S=S_1(<f_i)\\cup S_2(>f_i)$$\n",
    "\n",
    "- Remove the feature, $f_i$, and repeate above to prune the stem until no feature exists. \n",
    "\n",
    "The implement schemes are in  included in `sklearn.tree.DecisionTreeClassifier` and `sklearn.tree.DecisionTreeRegressor` for supervised and non-supervised training respectively.\n",
    "\n",
    "\n",
    "However, training accuracy should depend on the chosen *root*. Random Forest Model could be treated as baggage of decision-tree algoritms on randomly chosen sub-samples.\n"
   ]
  },
  {
   "cell_type": "code",
   "execution_count": 127,
   "metadata": {},
   "outputs": [],
   "source": [
    "features=['Open', 'High', 'Low','Volume', 'weekday', \n",
    "             'yesterday_close', 'yesterday_volume', 'price_change',\n",
    "             'volume_Change', 'sign']"
   ]
  },
  {
   "cell_type": "code",
   "execution_count": 123,
   "metadata": {},
   "outputs": [],
   "source": [
    "df_sub=df0050_date[['Open', 'High', 'Low','Volume', 'weekday', \n",
    "             'yesterday_close', 'yesterday_volume', 'price_change',\n",
    "             'volume_Change', 'sign']]"
   ]
  },
  {
   "cell_type": "code",
   "execution_count": 115,
   "metadata": {},
   "outputs": [],
   "source": []
  },
  {
   "cell_type": "code",
   "execution_count": 124,
   "metadata": {},
   "outputs": [
    {
     "data": {
      "text/html": [
       "<div>\n",
       "<style scoped>\n",
       "    .dataframe tbody tr th:only-of-type {\n",
       "        vertical-align: middle;\n",
       "    }\n",
       "\n",
       "    .dataframe tbody tr th {\n",
       "        vertical-align: top;\n",
       "    }\n",
       "\n",
       "    .dataframe thead th {\n",
       "        text-align: right;\n",
       "    }\n",
       "</style>\n",
       "<table border=\"1\" class=\"dataframe\">\n",
       "  <thead>\n",
       "    <tr style=\"text-align: right;\">\n",
       "      <th></th>\n",
       "      <th>Open</th>\n",
       "      <th>High</th>\n",
       "      <th>Low</th>\n",
       "      <th>Volume</th>\n",
       "      <th>weekday</th>\n",
       "      <th>yesterday_close</th>\n",
       "      <th>yesterday_volume</th>\n",
       "      <th>price_change</th>\n",
       "      <th>volume_Change</th>\n",
       "      <th>sign</th>\n",
       "    </tr>\n",
       "    <tr>\n",
       "      <th>Date</th>\n",
       "      <th></th>\n",
       "      <th></th>\n",
       "      <th></th>\n",
       "      <th></th>\n",
       "      <th></th>\n",
       "      <th></th>\n",
       "      <th></th>\n",
       "      <th></th>\n",
       "      <th></th>\n",
       "      <th></th>\n",
       "    </tr>\n",
       "  </thead>\n",
       "  <tbody>\n",
       "    <tr>\n",
       "      <th>2018-01-29</th>\n",
       "      <td>85.50</td>\n",
       "      <td>86.15</td>\n",
       "      <td>85.20</td>\n",
       "      <td>6445.0</td>\n",
       "      <td>0</td>\n",
       "      <td>0.00</td>\n",
       "      <td>0.0</td>\n",
       "      <td>85.55</td>\n",
       "      <td>6445.0</td>\n",
       "      <td>1</td>\n",
       "    </tr>\n",
       "    <tr>\n",
       "      <th>2018-01-30</th>\n",
       "      <td>85.20</td>\n",
       "      <td>85.35</td>\n",
       "      <td>84.50</td>\n",
       "      <td>4966.0</td>\n",
       "      <td>1</td>\n",
       "      <td>85.55</td>\n",
       "      <td>6445.0</td>\n",
       "      <td>-1.00</td>\n",
       "      <td>-1479.0</td>\n",
       "      <td>-1</td>\n",
       "    </tr>\n",
       "    <tr>\n",
       "      <th>2018-01-31</th>\n",
       "      <td>84.40</td>\n",
       "      <td>85.00</td>\n",
       "      <td>84.15</td>\n",
       "      <td>4251.0</td>\n",
       "      <td>2</td>\n",
       "      <td>84.55</td>\n",
       "      <td>4966.0</td>\n",
       "      <td>0.10</td>\n",
       "      <td>-715.0</td>\n",
       "      <td>1</td>\n",
       "    </tr>\n",
       "    <tr>\n",
       "      <th>2018-02-01</th>\n",
       "      <td>84.75</td>\n",
       "      <td>85.50</td>\n",
       "      <td>84.75</td>\n",
       "      <td>2914.0</td>\n",
       "      <td>3</td>\n",
       "      <td>84.65</td>\n",
       "      <td>4251.0</td>\n",
       "      <td>0.60</td>\n",
       "      <td>-1337.0</td>\n",
       "      <td>1</td>\n",
       "    </tr>\n",
       "    <tr>\n",
       "      <th>2018-02-02</th>\n",
       "      <td>84.85</td>\n",
       "      <td>85.15</td>\n",
       "      <td>84.35</td>\n",
       "      <td>3081.0</td>\n",
       "      <td>4</td>\n",
       "      <td>85.25</td>\n",
       "      <td>2914.0</td>\n",
       "      <td>-0.35</td>\n",
       "      <td>167.0</td>\n",
       "      <td>-1</td>\n",
       "    </tr>\n",
       "  </tbody>\n",
       "</table>\n",
       "</div>"
      ],
      "text/plain": [
       "             Open   High    Low  Volume  weekday  yesterday_close  \\\n",
       "Date                                                                \n",
       "2018-01-29  85.50  86.15  85.20  6445.0        0             0.00   \n",
       "2018-01-30  85.20  85.35  84.50  4966.0        1            85.55   \n",
       "2018-01-31  84.40  85.00  84.15  4251.0        2            84.55   \n",
       "2018-02-01  84.75  85.50  84.75  2914.0        3            84.65   \n",
       "2018-02-02  84.85  85.15  84.35  3081.0        4            85.25   \n",
       "\n",
       "            yesterday_volume  price_change  volume_Change  sign  \n",
       "Date                                                             \n",
       "2018-01-29               0.0         85.55         6445.0     1  \n",
       "2018-01-30            6445.0         -1.00        -1479.0    -1  \n",
       "2018-01-31            4966.0          0.10         -715.0     1  \n",
       "2018-02-01            4251.0          0.60        -1337.0     1  \n",
       "2018-02-02            2914.0         -0.35          167.0    -1  "
      ]
     },
     "execution_count": 124,
     "metadata": {},
     "output_type": "execute_result"
    }
   ],
   "source": [
    "df_sub.head()"
   ]
  },
  {
   "cell_type": "code",
   "execution_count": 112,
   "metadata": {},
   "outputs": [
    {
     "data": {
      "text/html": [
       "<div>\n",
       "<style scoped>\n",
       "    .dataframe tbody tr th:only-of-type {\n",
       "        vertical-align: middle;\n",
       "    }\n",
       "\n",
       "    .dataframe tbody tr th {\n",
       "        vertical-align: top;\n",
       "    }\n",
       "\n",
       "    .dataframe thead th {\n",
       "        text-align: right;\n",
       "    }\n",
       "</style>\n",
       "<table border=\"1\" class=\"dataframe\">\n",
       "  <thead>\n",
       "    <tr style=\"text-align: right;\">\n",
       "      <th></th>\n",
       "      <th>Open</th>\n",
       "      <th>High</th>\n",
       "      <th>Low</th>\n",
       "      <th>Close</th>\n",
       "      <th>Volume</th>\n",
       "      <th>weekday</th>\n",
       "      <th>code</th>\n",
       "      <th>yesterday_close</th>\n",
       "      <th>yesterday_volume</th>\n",
       "      <th>price_change</th>\n",
       "      <th>volume_Change</th>\n",
       "      <th>sign</th>\n",
       "    </tr>\n",
       "    <tr>\n",
       "      <th>Date</th>\n",
       "      <th></th>\n",
       "      <th></th>\n",
       "      <th></th>\n",
       "      <th></th>\n",
       "      <th></th>\n",
       "      <th></th>\n",
       "      <th></th>\n",
       "      <th></th>\n",
       "      <th></th>\n",
       "      <th></th>\n",
       "      <th></th>\n",
       "      <th></th>\n",
       "    </tr>\n",
       "  </thead>\n",
       "  <tbody>\n",
       "    <tr>\n",
       "      <th>2018-01-29</th>\n",
       "      <td>85.50</td>\n",
       "      <td>86.15</td>\n",
       "      <td>85.20</td>\n",
       "      <td>85.55</td>\n",
       "      <td>6445.0</td>\n",
       "      <td>0</td>\n",
       "      <td>50</td>\n",
       "      <td>0.00</td>\n",
       "      <td>0.0</td>\n",
       "      <td>85.55</td>\n",
       "      <td>6445.0</td>\n",
       "      <td>1</td>\n",
       "    </tr>\n",
       "    <tr>\n",
       "      <th>2018-01-30</th>\n",
       "      <td>85.20</td>\n",
       "      <td>85.35</td>\n",
       "      <td>84.50</td>\n",
       "      <td>84.55</td>\n",
       "      <td>4966.0</td>\n",
       "      <td>1</td>\n",
       "      <td>50</td>\n",
       "      <td>85.55</td>\n",
       "      <td>6445.0</td>\n",
       "      <td>-1.00</td>\n",
       "      <td>-1479.0</td>\n",
       "      <td>-1</td>\n",
       "    </tr>\n",
       "    <tr>\n",
       "      <th>2018-01-31</th>\n",
       "      <td>84.40</td>\n",
       "      <td>85.00</td>\n",
       "      <td>84.15</td>\n",
       "      <td>84.65</td>\n",
       "      <td>4251.0</td>\n",
       "      <td>2</td>\n",
       "      <td>50</td>\n",
       "      <td>84.55</td>\n",
       "      <td>4966.0</td>\n",
       "      <td>0.10</td>\n",
       "      <td>-715.0</td>\n",
       "      <td>1</td>\n",
       "    </tr>\n",
       "    <tr>\n",
       "      <th>2018-02-01</th>\n",
       "      <td>84.75</td>\n",
       "      <td>85.50</td>\n",
       "      <td>84.75</td>\n",
       "      <td>85.25</td>\n",
       "      <td>2914.0</td>\n",
       "      <td>3</td>\n",
       "      <td>50</td>\n",
       "      <td>84.65</td>\n",
       "      <td>4251.0</td>\n",
       "      <td>0.60</td>\n",
       "      <td>-1337.0</td>\n",
       "      <td>1</td>\n",
       "    </tr>\n",
       "    <tr>\n",
       "      <th>2018-02-02</th>\n",
       "      <td>84.85</td>\n",
       "      <td>85.15</td>\n",
       "      <td>84.35</td>\n",
       "      <td>84.90</td>\n",
       "      <td>3081.0</td>\n",
       "      <td>4</td>\n",
       "      <td>50</td>\n",
       "      <td>85.25</td>\n",
       "      <td>2914.0</td>\n",
       "      <td>-0.35</td>\n",
       "      <td>167.0</td>\n",
       "      <td>-1</td>\n",
       "    </tr>\n",
       "  </tbody>\n",
       "</table>\n",
       "</div>"
      ],
      "text/plain": [
       "             Open   High    Low  Close  Volume  weekday  code  \\\n",
       "Date                                                            \n",
       "2018-01-29  85.50  86.15  85.20  85.55  6445.0        0    50   \n",
       "2018-01-30  85.20  85.35  84.50  84.55  4966.0        1    50   \n",
       "2018-01-31  84.40  85.00  84.15  84.65  4251.0        2    50   \n",
       "2018-02-01  84.75  85.50  84.75  85.25  2914.0        3    50   \n",
       "2018-02-02  84.85  85.15  84.35  84.90  3081.0        4    50   \n",
       "\n",
       "            yesterday_close  yesterday_volume  price_change  volume_Change  \\\n",
       "Date                                                                         \n",
       "2018-01-29             0.00               0.0         85.55         6445.0   \n",
       "2018-01-30            85.55            6445.0         -1.00        -1479.0   \n",
       "2018-01-31            84.55            4966.0          0.10         -715.0   \n",
       "2018-02-01            84.65            4251.0          0.60        -1337.0   \n",
       "2018-02-02            85.25            2914.0         -0.35          167.0   \n",
       "\n",
       "            sign  \n",
       "Date              \n",
       "2018-01-29     1  \n",
       "2018-01-30    -1  \n",
       "2018-01-31     1  \n",
       "2018-02-01     1  \n",
       "2018-02-02    -1  "
      ]
     },
     "execution_count": 112,
     "metadata": {},
     "output_type": "execute_result"
    }
   ],
   "source": [
    "df_sub.head()"
   ]
  },
  {
   "cell_type": "code",
   "execution_count": 125,
   "metadata": {},
   "outputs": [],
   "source": [
    "X=df_sub.as_matrix()\n",
    "Y=df0050_date.Close"
   ]
  },
  {
   "cell_type": "code",
   "execution_count": 135,
   "metadata": {},
   "outputs": [],
   "source": [
    "from sklearn.tree import DecisionTreeRegressor, export_graphviz\n",
    "\n",
    "def DecisionTree(df,min_samples_split=20, random_state=99,criterion='mse'):\n",
    "    df_sub=df[features]\n",
    "    \n",
    "    estimator = DecisionTreeRegressor(min_samples_split=min_samples_split, random_state=random_state,\n",
    "                                       criterion=criterion)\n",
    "    #X=(df.index - df.index[0]).days.values.reshape(-1, 1)\n",
    "    X=df_sub.as_matrix()\n",
    "    Y=df.Close\n",
    "\n",
    "    # Train the model using the training sets\n",
    "    estimator.fit(X,Y)\n",
    "    return estimator"
   ]
  },
  {
   "cell_type": "code",
   "execution_count": 136,
   "metadata": {},
   "outputs": [],
   "source": [
    "\n",
    "DecisionTreestimator=DecisionTree(df0050_date)\n",
    "\n",
    "Y_pred_DT = DecisionTreestimator.predict(X)"
   ]
  },
  {
   "cell_type": "code",
   "execution_count": 137,
   "metadata": {},
   "outputs": [
    {
     "data": {
      "text/plain": [
       "<matplotlib.legend.Legend at 0x102507da0>"
      ]
     },
     "execution_count": 137,
     "metadata": {},
     "output_type": "execute_result"
    },
    {
     "data": {
      "image/png": "[encoded data removed]",
      "text/plain": [
       "<Figure size 864x432 with 1 Axes>"
      ]
     },
     "metadata": {},
     "output_type": "display_data"
    }
   ],
   "source": [
    "plt.figure(figsize=(12,6))\n",
    "\n",
    "plt.step(df0050_date.index[-50:],Y[-50:],label='Real Data')\n",
    "plt.step(df0050_date.index[-50:],Y_pred_DT[-50:],'r--',label='Decision Tree',alpha=0.4)\n",
    "plt.step(df0050_date.index[-50:],Y_pred_adaboost[-50:],'k--',label='Adaboost',alpha=0.5)\n",
    "\n",
    "plt.legend()"
   ]
  },
  {
   "cell_type": "code",
   "execution_count": 81,
   "metadata": {},
   "outputs": [
    {
     "name": "stdout",
     "output_type": "stream",
     "text": [
      "Prediction of Decision Tree Method\n",
      "Mean squared error: 0.19\n",
      "Variance score: 0.94\n"
     ]
    }
   ],
   "source": [
    "# The coefficients\n",
    "print('Prediction of Decision Tree Method')\n",
    "print(\"Mean squared error: %.2f\"\n",
    "      % mean_squared_error(Y, Y_pred_DT))\n",
    "# Explained variance score: 1 is perfect prediction\n",
    "print('Variance score: %.2f' % r2_score(Y, Y_pred_DT))\n"
   ]
  },
  {
   "cell_type": "code",
   "execution_count": 82,
   "metadata": {},
   "outputs": [
    {
     "data": {
      "text/plain": [
       "DecisionTreeRegressor(criterion='mse', max_depth=None, max_features=None,\n",
       "           max_leaf_nodes=None, min_impurity_decrease=0.0,\n",
       "           min_impurity_split=None, min_samples_leaf=1,\n",
       "           min_samples_split=20, min_weight_fraction_leaf=0.0,\n",
       "           presort=False, random_state=99, splitter='best')"
      ]
     },
     "execution_count": 82,
     "metadata": {},
     "output_type": "execute_result"
    }
   ],
   "source": [
    "DecisionTreestimator"
   ]
  },
  {
   "cell_type": "markdown",
   "metadata": {},
   "source": [
    "To make visualize the DecisionTree result, install pydotplus by `pip`."
   ]
  },
  {
   "cell_type": "code",
   "execution_count": 83,
   "metadata": {},
   "outputs": [
    {
     "data": {
      "text/plain": [
       "0"
      ]
     },
     "execution_count": 83,
     "metadata": {},
     "output_type": "execute_result"
    }
   ],
   "source": [
    "import subprocess\n",
    "\n",
    "export_graphviz(DecisionTreestimator,out_file=\"tree.dot\",feature_names=features,rotate=True,\n",
    "                filled=True,rounded=True)\n",
    "command = [\"dot\", \"-Tpng\", \"tree.dot\", \"-o\", \"3.png\"]\n",
    "subprocess.check_call(command)"
   ]
  },
  {
   "cell_type": "markdown",
   "metadata": {},
   "source": [
    "<img src=\"3.png\" />"
   ]
  },
  {
   "cell_type": "code",
   "execution_count": null,
   "metadata": {},
   "outputs": [],
   "source": []
  },
  {
   "cell_type": "code",
   "execution_count": null,
   "metadata": {},
   "outputs": [],
   "source": []
  },
  {
   "cell_type": "code",
   "execution_count": 84,
   "metadata": {},
   "outputs": [],
   "source": [
    "from sklearn.ensemble import RandomForestRegressor\n",
    "\n",
    "def rfc(df,nEstimators=100):\n",
    "    df_sub=df[features]\n",
    "    estimator = RandomForestRegressor(n_estimators=nEstimators)\n",
    "    X=df_sub.as_matrix()\n",
    "    Y=df.Close\n",
    "\n",
    "    # Train the model using the training sets\n",
    "    estimator.fit(X,Y)\n",
    "    return estimator"
   ]
  },
  {
   "cell_type": "code",
   "execution_count": 85,
   "metadata": {},
   "outputs": [],
   "source": [
    "rfcEstimator=rfc(df0050_date)\n",
    "Y_pred_rfc = rfcEstimator.predict(X)"
   ]
  },
  {
   "cell_type": "code",
   "execution_count": 91,
   "metadata": {},
   "outputs": [
    {
     "data": {
      "text/plain": [
       "<matplotlib.legend.Legend at 0x10c3cc9b0>"
      ]
     },
     "execution_count": 91,
     "metadata": {},
     "output_type": "execute_result"
    },
    {
     "data": {
      "image/png": "[encoded data removed]",
      "text/plain": [
       "<Figure size 864x432 with 1 Axes>"
      ]
     },
     "metadata": {},
     "output_type": "display_data"
    }
   ],
   "source": [
    "plt.figure(figsize=(12,6))\n",
    "\n",
    "plt.step(df0050_date.index,Y,label='Real Data')\n",
    "#plt.step(X,Y_pred_non,'r--',label='Nonlinear Regress',alpha=0.4)\n",
    "#plt.step(X,Y_pred,'g--',label='Linear Regress',alpha=0.3)\n",
    "#plt.step(X,Y_pred_adaboost,'k--',label='Adaboost',alpha=0.5)\n",
    "plt.step(df0050_date.index,Y_pred_rfc,'#4444ff',label='Random Forest',alpha=0.5)\n",
    "plt.legend()"
   ]
  },
  {
   "cell_type": "code",
   "execution_count": 92,
   "metadata": {},
   "outputs": [
    {
     "data": {
      "text/plain": [
       "<matplotlib.legend.Legend at 0x10d237940>"
      ]
     },
     "execution_count": 92,
     "metadata": {},
     "output_type": "execute_result"
    },
    {
     "data": {
      "image/png": "[encoded data removed]",
      "text/plain": [
       "<Figure size 864x432 with 1 Axes>"
      ]
     },
     "metadata": {},
     "output_type": "display_data"
    }
   ],
   "source": [
    "plt.figure(figsize=(12,6))\n",
    "\n",
    "plt.step(df0050_date.index[-50:],Y[-50:],label='Real Data')\n",
    "plt.step(df0050_date.index[-50:],Y_pred_DT[-50:],'r--',label='Decision Tree',alpha=0.4)\n",
    "plt.step(df0050_date.index[-50:],Y_pred_rfc[-50:],'#225555',label='Random Forest',alpha=0.5)\n",
    "plt.step(df0050_date.index[-50:],Y_pred_adaboost[-50:],'k--',label='Adaboost',alpha=0.5)\n",
    "plt.legend()"
   ]
  },
  {
   "cell_type": "code",
   "execution_count": 87,
   "metadata": {},
   "outputs": [
    {
     "name": "stdout",
     "output_type": "stream",
     "text": [
      " There are 100 numbers of DT's in Random Forest Method\n"
     ]
    }
   ],
   "source": [
    "print(' There are %d numbers of DT\\'s in Random Forest Method' %len(rfcEstimator.estimators_))"
   ]
  },
  {
   "cell_type": "code",
   "execution_count": 97,
   "metadata": {},
   "outputs": [
    {
     "name": "stdout",
     "output_type": "stream",
     "text": [
      "Prediction of RFC Method\n",
      "Mean squared error: 0.00\n",
      "Variance score: 1.00\n"
     ]
    }
   ],
   "source": [
    "# The coefficients\n",
    "print('Prediction of RFC Method')\n",
    "print(\"Mean squared error: %.2f\"\n",
    "      % mean_squared_error(Y, Y_pred_rfc))\n",
    "# Explained variance score: 1 is perfect prediction\n",
    "print('Variance score: %.2f' % r2_score(Y, Y_pred_rfc))\n"
   ]
  },
  {
   "cell_type": "markdown",
   "metadata": {},
   "source": [
    "**The Board of importance of Features in the Estimator** "
   ]
  },
  {
   "cell_type": "code",
   "execution_count": 88,
   "metadata": {},
   "outputs": [
    {
     "name": "stdout",
     "output_type": "stream",
     "text": [
      "Importance of Features selection for Random Forest Estimator\n",
      "                  ranking  support\n",
      "Open                    1     True\n",
      "High                    1     True\n",
      "Low                     1     True\n",
      "Close                   1     True\n",
      "Volume                  4    False\n",
      "weekday                 1     True\n",
      "code                    7    False\n",
      "yesterday_close         2    False\n",
      "yesterday_volume        1     True\n",
      "price_change            5    False\n",
      "volume_Change           3    False\n",
      "sign                    6    False\n"
     ]
    }
   ],
   "source": [
    "from sklearn.feature_selection import RFE\n",
    "\n",
    "\n",
    "def feature_selection(estimator, x, y,features=features):\n",
    "    selector = RFE(estimator)\n",
    "    selector.fit(x, y)\n",
    "    print('Importance of Features selection for Random Forest Estimator')\n",
    "    print(pd.DataFrame(\n",
    "        {'support': selector.support_, 'ranking': selector.ranking_},\n",
    "        index=features))\n",
    "\n",
    "\n",
    "feature_selection(rfcEstimator, X,Y)"
   ]
  },
  {
   "cell_type": "code",
   "execution_count": null,
   "metadata": {},
   "outputs": [],
   "source": []
  },
  {
   "cell_type": "code",
   "execution_count": 89,
   "metadata": {},
   "outputs": [],
   "source": [
    "# Visualization of Importance\n",
    "importances = list(rfcEstimator.feature_importances_)"
   ]
  },
  {
   "cell_type": "code",
   "execution_count": 90,
   "metadata": {},
   "outputs": [
    {
     "data": {
      "image/png": "[encoded data removed]",
      "text/plain": [
       "<Figure size 864x288 with 1 Axes>"
      ]
     },
     "metadata": {},
     "output_type": "display_data"
    }
   ],
   "source": [
    "# Set the style\n",
    "plt.figure(figsize=(12,4))\n",
    "plt.style.use('fivethirtyeight')\n",
    "# list of x locations for plotting\n",
    "x_val = list(range(len(importances)))\n",
    "# Make a bar chart\n",
    "plt.bar(x_val, importances, orientation = 'vertical')\n",
    "# Tick labels for x axis\n",
    "plt.xticks(x_val, features, rotation=45)\n",
    "# Axis labels and title\n",
    "plt.ylabel('Importance'); plt.xlabel('Features'); plt.title('Features Importances');"
   ]
  },
  {
   "cell_type": "code",
   "execution_count": 98,
   "metadata": {},
   "outputs": [],
   "source": [
    "from xgboost import XGBRegressor,plot_importance"
   ]
  },
  {
   "cell_type": "code",
   "execution_count": 143,
   "metadata": {},
   "outputs": [],
   "source": [
    "model_xgb = XGBRegressor(learning_rate=0.1, random_state=3, n_estimators=90, subsample=0.8, \n",
    "                      colsample_bytree=0.8, max_depth =15)"
   ]
  },
  {
   "cell_type": "code",
   "execution_count": 144,
   "metadata": {},
   "outputs": [
    {
     "data": {
      "text/plain": [
       "XGBRegressor(base_score=0.5, booster='gbtree', colsample_bylevel=1,\n",
       "       colsample_bytree=0.8, gamma=0, learning_rate=0.1, max_delta_step=0,\n",
       "       max_depth=15, min_child_weight=1, missing=None, n_estimators=90,\n",
       "       n_jobs=1, nthread=None, objective='reg:linear', random_state=3,\n",
       "       reg_alpha=0, reg_lambda=1, scale_pos_weight=1, seed=None,\n",
       "       silent=True, subsample=0.8)"
      ]
     },
     "execution_count": 144,
     "metadata": {},
     "output_type": "execute_result"
    }
   ],
   "source": [
    "model_xgb.fit(X, Y)"
   ]
  },
  {
   "cell_type": "code",
   "execution_count": 145,
   "metadata": {},
   "outputs": [
    {
     "data": {
      "text/plain": [
       "<matplotlib.axes._subplots.AxesSubplot at 0x10e8cbda0>"
      ]
     },
     "execution_count": 145,
     "metadata": {},
     "output_type": "execute_result"
    },
    {
     "data": {
      "image/png": "[encoded data removed]",
      "text/plain": [
       "<Figure size 432x288 with 1 Axes>"
      ]
     },
     "metadata": {},
     "output_type": "display_data"
    }
   ],
   "source": [
    "plot_importance(model_xgb)"
   ]
  },
  {
   "cell_type": "code",
   "execution_count": 146,
   "metadata": {},
   "outputs": [],
   "source": [
    "Y_pred_xgb=model_xgb.predict(X)"
   ]
  },
  {
   "cell_type": "code",
   "execution_count": 147,
   "metadata": {},
   "outputs": [
    {
     "data": {
      "text/plain": [
       "<matplotlib.legend.Legend at 0x10eb799b0>"
      ]
     },
     "execution_count": 147,
     "metadata": {},
     "output_type": "execute_result"
    },
    {
     "data": {
      "image/png": "[encoded data removed]",
      "text/plain": [
       "<Figure size 864x432 with 1 Axes>"
      ]
     },
     "metadata": {},
     "output_type": "display_data"
    }
   ],
   "source": [
    "plt.figure(figsize=(12,6))\n",
    "\n",
    "plt.step(df0050_date.index[-50:],Y[-50:],label='Real Data')\n",
    "plt.step(df0050_date.index[-50:],Y_pred_DT[-50:],'r--',label='Decision Tree',alpha=0.4)\n",
    "plt.step(df0050_date.index[-50:],Y_pred_rfc[-50:],'#225555',label='Random Forest',alpha=0.5)\n",
    "plt.step(df0050_date.index[-50:],Y_pred_adaboost[-50:],'k--',label='Adaboost',alpha=0.5)\n",
    "plt.step(df0050_date.index[-50:],Y_pred_xgb[-50:],'g--',label='XGBoost',alpha=0.5)\n",
    "plt.legend()"
   ]
  },
  {
   "cell_type": "code",
   "execution_count": 148,
   "metadata": {},
   "outputs": [
    {
     "name": "stdout",
     "output_type": "stream",
     "text": [
      "Prediction of XGBoost Method\n",
      "Mean squared error: 0.00\n",
      "Variance score: 1.00\n"
     ]
    }
   ],
   "source": [
    "# The coefficients\n",
    "print('Prediction of XGBoost Method')\n",
    "print(\"Mean squared error: %.2f\"\n",
    "      % mean_squared_error(Y, Y_pred_xgb))\n",
    "# Explained variance score: 1 is perfect prediction\n",
    "print('Variance score: %.2f' % r2_score(Y, Y_pred_xgb))\n"
   ]
  },
  {
   "cell_type": "code",
   "execution_count": null,
   "metadata": {},
   "outputs": [],
   "source": []
  },
  {
   "cell_type": "code",
   "execution_count": null,
   "metadata": {},
   "outputs": [],
   "source": []
  },
  {
   "cell_type": "code",
   "execution_count": null,
   "metadata": {},
   "outputs": [],
   "source": []
  },
  {
   "cell_type": "code",
   "execution_count": null,
   "metadata": {},
   "outputs": [],
   "source": []
  },
  {
   "cell_type": "code",
   "execution_count": null,
   "metadata": {},
   "outputs": [],
   "source": [
    "etfs=['0050','0051','0052','0053','0054','0055','0056','0057','0058',\n",
    "      '0059','006201','006203','006204','006208','00690','00692','00701','00713']\n"
   ]
  },
  {
   "cell_type": "code",
   "execution_count": null,
   "metadata": {},
   "outputs": [],
   "source": []
  }
 ],
 "metadata": {
  "kernelspec": {
   "display_name": "Python 3",
   "language": "python",
   "name": "python3"
  },
  "language_info": {
   "codemirror_mode": {
    "name": "ipython",
    "version": 3
   },
   "file_extension": ".py",
   "mimetype": "text/x-python",
   "name": "python",
   "nbconvert_exporter": "python",
   "pygments_lexer": "ipython3",
   "version": "3.6.1"
  },
  "toc": {
   "colors": {
    "hover_highlight": "#DAA520",
    "navigate_num": "#000000",
    "navigate_text": "#333333",
    "running_highlight": "#FF0000",
    "selected_highlight": "#FFD700",
    "sidebar_border": "#EEEEEE",
    "wrapper_background": "#FFFFFF"
   },
   "moveMenuLeft": true,
   "nav_menu": {
    "height": "12px",
    "width": "252px"
   },
   "navigate_menu": true,
   "number_sections": true,
   "sideBar": true,
   "threshold": 4,
   "toc_cell": false,
   "toc_section_display": "block",
   "toc_window_display": false,
   "widenNotebook": false
  }
 },
 "nbformat": 4,
 "nbformat_minor": 2
}
