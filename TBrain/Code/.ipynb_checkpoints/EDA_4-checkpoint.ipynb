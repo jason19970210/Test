{
 "cells": [
  {
   "cell_type": "markdown",
   "metadata": {},
   "source": [
    "EDA, Exploratory Data Analysis\n",
    "===\n",
    "latitude/logitude are given by unknown consersion. Suppose that this conversion formula still kept the original infomation, how could we extract their usefule information in prediction? As well-known knowledge, house price is dependent on the region where their locate; this is why we have to consider lat/lon infomation seriously.\n",
    "1. nan conversion\n",
    "2. target, $\\mathbf{y\\Rightarrow\\log(1+y)}$ (`np.log1p`), for normalize fitting; later, back by $\\mathbf{y_p \\Rightarrow \\exp(y_p)-1}$ (`np.expm1`); or use `np.log` directly if all the target data are greater than 0.\n",
    "- latitude/longitude conversion, a°). knn means, b°). dbscans, then one-hot converstion\n",
    "  ```Lasso, 0.7012 ➡︎ 0.6893```, the last one can not assign a fixed value to fix the data.\n",
    "- different models, xgb, lgb, ...; here we try the `lightgbm`;\n",
    "- stack model, blend moder, ...; install `mlxtend` by pip.\n",
    "\n",
    "Note\n",
    "---\n",
    "1. Since 2019/05/17, two new implementations of gradient boosting trees: `ensemble.HistGradientBoostingClassifier` and `ensemble.HistGradientBoostingRegressor` , are supported by `scikit_learning`-0.21.1.\n",
    "```python\n",
    "# usage\n",
    "from sklearn.experimental import enable_hist_gradient_boosting \n",
    "from sklearn.ensemble import HistGradientBoostingRegressor\n",
    "HistGradientBoostingRegressor(loss=’least_squares’, learning_rate=0.1, max_iter=100, max_leaf_nodes=31, max_depth=None, min_samples_leaf=20, l2_regularization=0.0, max_bins=256, scoring=None, validation_fraction=0.1, n_iter_no_change=None, tol=1e-07, verbose=0, random_state=None)\n",
    "```\n"
   ]
  },
  {
   "cell_type": "code",
   "execution_count": 27,
   "metadata": {},
   "outputs": [
    {
     "name": "stdout",
     "output_type": "stream",
     "text": [
      "/Users/macbook/Desktop/Test/TBrain/Code\r\n"
     ]
    }
   ],
   "source": [
    "!pwd"
   ]
  },
  {
   "cell_type": "code",
   "execution_count": 8,
   "metadata": {},
   "outputs": [],
   "source": [
    "import matplotlib.pyplot as plt\n",
    "import pandas as pd\n",
    "import numpy as np\n",
    "from tqdm import tqdm,tqdm_notebook\n",
    "import folium\n",
    "\n",
    "import seaborn as sns\n",
    "%matplotlib inline"
   ]
  },
  {
   "cell_type": "code",
   "execution_count": 9,
   "metadata": {},
   "outputs": [],
   "source": [
    "train_df = pd.read_csv('../dataset/0514/train.csv')\n",
    "test_df = pd.read_csv('../dataset/0514/test.csv')"
   ]
  },
  {
   "cell_type": "code",
   "execution_count": 10,
   "metadata": {},
   "outputs": [
    {
     "name": "stdout",
     "output_type": "stream",
     "text": [
      "Train:  60000 sales, and  235 features\n",
      "Test:   10000 sales, and  234 features\n"
     ]
    }
   ],
   "source": [
    "print (\"Train: \",train_df.shape[0],\"sales, and \",train_df.shape[1],\"features\")\n",
    "print (\"Test:  \",test_df.shape[0],\"sales, and \",test_df.shape[1],\"features\")"
   ]
  },
  {
   "cell_type": "code",
   "execution_count": 11,
   "metadata": {},
   "outputs": [],
   "source": [
    "def fillnan(df_1,df_2,features):\n",
    "    df_1[features[0]].fillna(value=0,inplace=True)\n",
    "    df_2[features[0]].fillna(value=0,inplace=True)\n",
    "    df_1[features[1]].fillna(value=0,inplace=True)\n",
    "    df_2[features[1]].fillna(value=0,inplace=True)\n",
    "    \n",
    "    df=pd.concat([df_1[features],df_2[features]],axis=0)\n",
    "    for f in features[2:]:\n",
    "        df_1[f].fillna(value=df[f].median(),inplace=True)\n",
    "        df_2[f].fillna(value=df[f].median(),inplace=True)\n",
    "    return df_1,df_2\n",
    "\n",
    "nan_features=['parking_area','parking_price','txn_floor','village_income_median']"
   ]
  },
  {
   "cell_type": "code",
   "execution_count": 12,
   "metadata": {},
   "outputs": [],
   "source": [
    "train_df,test_df=fillnan(train_df,test_df,nan_features)"
   ]
  },
  {
   "cell_type": "markdown",
   "metadata": {},
   "source": [
    "ToDo\n",
    "---\n",
    "Outliers"
   ]
  },
  {
   "cell_type": "markdown",
   "metadata": {},
   "source": [
    "Data\n",
    "---\n",
    "1. Quantitative\n",
    "   - time-state: 'txn_dt', 'building_complete_dt'\n",
    "   - non-time,\n",
    "           'parking_price','building_area','village_income_median','town_population','town_area',\n",
    "           'town_population_density','I_Min','II_MIN','III_MIN','IV_MIN','V_MIN','VI_MIN',\n",
    "           'VII_MIN','VIII_MIN','IX_MIN','X_MIN','XI_MIN','XII_MIN','XIII_MIN','XIV_MIN',\n",
    "   - location: 'lon','lat'\n",
    "- Qualitative\n",
    "  - building_material(9),city(11),total_floor(29),building_type(5),building_use(10),parking_way,\n",
    "    parking_area, txn_floor,'doc_rate', 'master_rate', 'bachelor_rate', 'jobschool_rate',\n",
    "       'highschool_rate', 'junior_rate', 'elementary_rate', 'born_rate',\n",
    "       'death_rate', 'marriage_rate', 'divorce_rate'\n",
    "  - village(2899)     "
   ]
  },
  {
   "cell_type": "code",
   "execution_count": 13,
   "metadata": {},
   "outputs": [],
   "source": [
    "quantitative = ['txn_dt', 'building_complete_dt','parking_price','building_area','village_income_median','town_population','town_area',\n",
    "           'town_population_density','I_MIN','II_MIN','III_MIN','IV_MIN','V_MIN','VI_MIN',\n",
    "           'VII_MIN','VIII_MIN','IX_MIN','X_MIN','XI_MIN','XII_MIN','XIII_MIN','XIV_MIN',\n",
    "           'lon','lat']\n",
    "qualitative=['building_material','city','total_floor','building_type','building_use',\n",
    "             'parking_way','parking_area','txn_floor','doc_rate', 'master_rate', \n",
    "             'bachelor_rate', 'jobschool_rate','highschool_rate', 'junior_rate', \n",
    "             'elementary_rate', 'born_rate','death_rate', 'marriage_rate', 'divorce_rate',\n",
    "             'village']\n",
    "target=['total_price']"
   ]
  },
  {
   "cell_type": "markdown",
   "metadata": {},
   "source": [
    " Normality test\n",
    "---\n",
    "For quanntitative features, do the features follow normal distributed? The Shapior test,  `scipy.stats.shapiro`, does help to filter out the data."
   ]
  },
  {
   "cell_type": "code",
   "execution_count": 14,
   "metadata": {},
   "outputs": [],
   "source": [
    "train_df['total_price_log']=np.log(train_df['total_price'])"
   ]
  },
  {
   "cell_type": "code",
   "execution_count": 15,
   "metadata": {},
   "outputs": [],
   "source": [
    "import scipy.stats as stats\n",
    "from scipy import stats\n",
    "from scipy.stats import norm, skew "
   ]
  },
  {
   "cell_type": "code",
   "execution_count": 16,
   "metadata": {},
   "outputs": [],
   "source": [
    "def dist_check(y,kind='log'):\n",
    "    if kind=='log':\n",
    "       y_c=np.log(y)\n",
    "    else:\n",
    "       y_c=y \n",
    "    plt.figure(figsize=(12,6))\n",
    "    plt.subplot(121)\n",
    "    sns.distplot(y_c , fit=norm);\n",
    "    (mu, sigma) = norm.fit(y_c)\n",
    "    #print( '\\n mu = {:.2f} and sigma = {:.2f}\\n'.format(mu, sigma))\n",
    "    plt.legend(['Normal dist. ($\\mu:$ {:.2f}, $\\sigma:$ {:.2f} )'.format(mu, sigma)],fontsize=14,\n",
    "            loc='best')\n",
    "    plt.title('Convert by %s' %kind)\n",
    "    plt.ylabel('Frequency')\n",
    "    \n",
    "    plt.subplot(122)\n",
    "    #fig = plt.figure(figsize=[8,6])\n",
    "    res = stats.probplot(y_c, plot=plt)"
   ]
  },
  {
   "cell_type": "code",
   "execution_count": 17,
   "metadata": {},
   "outputs": [
    {
     "data": {
      "image/png": "[encoded data removed]",
      "text/plain": [
       "<Figure size 864x432 with 2 Axes>"
      ]
     },
     "metadata": {
      "needs_background": "light"
     },
     "output_type": "display_data"
    }
   ],
   "source": [
    "y=(train_df['total_price'])\n",
    "\n",
    "dist_check(y,kind='log')"
   ]
  },
  {
   "cell_type": "code",
   "execution_count": 18,
   "metadata": {},
   "outputs": [
    {
     "data": {
      "image/png": "[encoded data removed]",
      "text/plain": [
       "<Figure size 864x432 with 2 Axes>"
      ]
     },
     "metadata": {
      "needs_background": "light"
     },
     "output_type": "display_data"
    }
   ],
   "source": [
    "dist_check(train_df['town_population'],kind='l')"
   ]
  },
  {
   "cell_type": "markdown",
   "metadata": {},
   "source": [
    "Skewness and Kurtosis\n",
    "---\n",
    "\\begin{eqnarray}\n",
    "    \\text{Skewness }&=&\\frac{E(X-\\mu)^3}{\\sigma^3}\\\\\n",
    "    \\text{Kurtosis }&=&\\frac{E(X-\\mu)^4}{\\sigma^4}\n",
    "\\end{eqnarray}\n",
    "1. Skewness $>0$, log-tail on the right-side, and $<0$, on the left side,\n",
    "- Kurtosis large, steep in the peak."
   ]
  },
  {
   "cell_type": "code",
   "execution_count": 19,
   "metadata": {},
   "outputs": [
    {
     "name": "stdout",
     "output_type": "stream",
     "text": [
      "Skewness: 40.183985\n",
      "Kurtosis: 2592.965135\n"
     ]
    }
   ],
   "source": [
    "# too large for data skewness and kurtosis\n",
    "print(\"Skewness: %f\" % train_df['total_price'].skew()) \n",
    "print(\"Kurtosis: %f\" % train_df['total_price'].kurt())"
   ]
  },
  {
   "cell_type": "code",
   "execution_count": 20,
   "metadata": {},
   "outputs": [
    {
     "name": "stdout",
     "output_type": "stream",
     "text": [
      "Skewness: 0.375563\n",
      "Kurtosis: 0.537999\n"
     ]
    }
   ],
   "source": [
    "# try another one in log degree, look ...\n",
    "print(\"Skewness: %f\" % train_df['total_price_log'].skew()) \n",
    "print(\"Kurtosis: %f\" % train_df['total_price_log'].kurt())"
   ]
  },
  {
   "cell_type": "code",
   "execution_count": 21,
   "metadata": {},
   "outputs": [
    {
     "name": "stdout",
     "output_type": "stream",
     "text": [
      "Skewness: 0.643185\n",
      "Kurtosis: -0.108994\n"
     ]
    }
   ],
   "source": [
    "# try another one in log degree, look ...\n",
    "print(\"Skewness: %f\" % train_df['town_population'].skew()) \n",
    "print(\"Kurtosis: %f\" % train_df['town_population'].kurt())"
   ]
  },
  {
   "cell_type": "markdown",
   "metadata": {},
   "source": [
    "Linear regression assumes that data should follow the `normal distributed` rule. Thus, we want to check the  quantitative features, continuous variables, whether obey the normal rule;\n",
    "```\n",
    "        convert the feature, with skew >1, by logarithm, ln(var);\n",
    "        translate the data if data is smaller than 0.\n",
    "```        "
   ]
  },
  {
   "cell_type": "code",
   "execution_count": 22,
   "metadata": {},
   "outputs": [
    {
     "data": {
      "text/plain": [
       "building_area              83.710631\n",
       "VIII_MIN                    8.002373\n",
       "XIII_MIN                    7.606963\n",
       "XII_MIN                     7.230123\n",
       "XI_MIN                      7.088242\n",
       "V_MIN                       5.753089\n",
       "IX_MIN                      5.401486\n",
       "parking_price               4.816163\n",
       "X_MIN                       4.719582\n",
       "VII_MIN                     4.632135\n",
       "III_MIN                     4.372702\n",
       "II_MIN                      4.077665\n",
       "village_income_median       2.848078\n",
       "I_MIN                       2.761933\n",
       "XIV_MIN                     2.680964\n",
       "IV_MIN                      2.428235\n",
       "VI_MIN                      2.257881\n",
       "town_area                   1.988336\n",
       "lat                         1.220302\n",
       "town_population_density     0.765919\n",
       "lon                         0.764275\n",
       "town_population             0.643185\n",
       "txn_dt                      0.158794\n",
       "building_complete_dt        0.030223\n",
       "dtype: float64"
      ]
     },
     "execution_count": 22,
     "metadata": {},
     "output_type": "execute_result"
    }
   ],
   "source": [
    "# check degree of skew \n",
    "skew_var_X={}\n",
    "for i in range(len(quantitative)):\n",
    "    skew_var_X[i]=abs(train_df[quantitative[i]].skew())\n",
    "skew_df=pd.Series(skew_var_X)#.sort_values(ascending=False)\n",
    "skew_df.index=quantitative\n",
    "skew_df.sort_values(ascending=False)"
   ]
  },
  {
   "cell_type": "code",
   "execution_count": 24,
   "metadata": {},
   "outputs": [],
   "source": [
    "train_df_skew=train_df.copy()\n",
    "var_X_ln=skew_df.index[skew_df>1]\n",
    "for i in var_X_ln:\n",
    "    if min(train_df_skew[i])<=0:\n",
    "       train_df_skew[i]=np.log(train_df_skew[i]+abs(train_df_skew[i].min())+0.01)\n",
    "    else:\n",
    "       train_df_skew[i]=np.log(train_df_skew[i])"
   ]
  },
  {
   "cell_type": "code",
   "execution_count": 26,
   "metadata": {},
   "outputs": [
    {
     "data": {
      "text/html": [
       "<div>\n",
       "<style scoped>\n",
       "    .dataframe tbody tr th:only-of-type {\n",
       "        vertical-align: middle;\n",
       "    }\n",
       "\n",
       "    .dataframe tbody tr th {\n",
       "        vertical-align: top;\n",
       "    }\n",
       "\n",
       "    .dataframe thead th {\n",
       "        text-align: right;\n",
       "    }\n",
       "</style>\n",
       "<table border=\"1\" class=\"dataframe\">\n",
       "  <thead>\n",
       "    <tr style=\"text-align: right;\">\n",
       "      <th></th>\n",
       "      <th>parking_price</th>\n",
       "      <th>building_area</th>\n",
       "      <th>village_income_median</th>\n",
       "      <th>town_area</th>\n",
       "      <th>I_MIN</th>\n",
       "      <th>II_MIN</th>\n",
       "      <th>III_MIN</th>\n",
       "      <th>IV_MIN</th>\n",
       "      <th>V_MIN</th>\n",
       "      <th>VI_MIN</th>\n",
       "      <th>VII_MIN</th>\n",
       "      <th>VIII_MIN</th>\n",
       "      <th>IX_MIN</th>\n",
       "      <th>X_MIN</th>\n",
       "      <th>XI_MIN</th>\n",
       "      <th>XII_MIN</th>\n",
       "      <th>XIII_MIN</th>\n",
       "      <th>XIV_MIN</th>\n",
       "      <th>lat</th>\n",
       "    </tr>\n",
       "  </thead>\n",
       "  <tbody>\n",
       "    <tr>\n",
       "      <th>count</th>\n",
       "      <td>60000.000000</td>\n",
       "      <td>60000.000000</td>\n",
       "      <td>60000.000000</td>\n",
       "      <td>60000.000000</td>\n",
       "      <td>60000.000000</td>\n",
       "      <td>60000.000000</td>\n",
       "      <td>60000.000000</td>\n",
       "      <td>60000.000000</td>\n",
       "      <td>60000.000000</td>\n",
       "      <td>60000.000000</td>\n",
       "      <td>60000.000000</td>\n",
       "      <td>60000.000000</td>\n",
       "      <td>60000.000000</td>\n",
       "      <td>60000.000000</td>\n",
       "      <td>60000.000000</td>\n",
       "      <td>60000.000000</td>\n",
       "      <td>60000.000000</td>\n",
       "      <td>60000.000000</td>\n",
       "      <td>60000.000000</td>\n",
       "    </tr>\n",
       "    <tr>\n",
       "      <th>mean</th>\n",
       "      <td>-1.084802</td>\n",
       "      <td>1.999780</td>\n",
       "      <td>6.496443</td>\n",
       "      <td>3.299294</td>\n",
       "      <td>5.146880</td>\n",
       "      <td>4.593494</td>\n",
       "      <td>4.459350</td>\n",
       "      <td>6.152346</td>\n",
       "      <td>4.583562</td>\n",
       "      <td>5.982935</td>\n",
       "      <td>3.923824</td>\n",
       "      <td>3.921509</td>\n",
       "      <td>4.749571</td>\n",
       "      <td>4.970724</td>\n",
       "      <td>4.981473</td>\n",
       "      <td>3.118397</td>\n",
       "      <td>5.664713</td>\n",
       "      <td>4.296608</td>\n",
       "      <td>0.630537</td>\n",
       "    </tr>\n",
       "    <tr>\n",
       "      <th>std</th>\n",
       "      <td>6.416276</td>\n",
       "      <td>0.711745</td>\n",
       "      <td>0.176922</td>\n",
       "      <td>0.832120</td>\n",
       "      <td>0.854210</td>\n",
       "      <td>1.156269</td>\n",
       "      <td>1.210652</td>\n",
       "      <td>1.028882</td>\n",
       "      <td>1.066218</td>\n",
       "      <td>0.857858</td>\n",
       "      <td>1.252294</td>\n",
       "      <td>1.342637</td>\n",
       "      <td>1.144943</td>\n",
       "      <td>0.899652</td>\n",
       "      <td>0.973815</td>\n",
       "      <td>1.523666</td>\n",
       "      <td>1.261825</td>\n",
       "      <td>0.939966</td>\n",
       "      <td>0.383337</td>\n",
       "    </tr>\n",
       "    <tr>\n",
       "      <th>min</th>\n",
       "      <td>-4.605170</td>\n",
       "      <td>-1.004113</td>\n",
       "      <td>6.018593</td>\n",
       "      <td>-0.127493</td>\n",
       "      <td>-2.532838</td>\n",
       "      <td>-4.625373</td>\n",
       "      <td>-8.517193</td>\n",
       "      <td>-2.037582</td>\n",
       "      <td>-8.517193</td>\n",
       "      <td>-2.116230</td>\n",
       "      <td>-8.517193</td>\n",
       "      <td>-4.332121</td>\n",
       "      <td>-8.517193</td>\n",
       "      <td>-2.027397</td>\n",
       "      <td>-1.311507</td>\n",
       "      <td>-8.517193</td>\n",
       "      <td>-3.750945</td>\n",
       "      <td>-2.736974</td>\n",
       "      <td>-4.605170</td>\n",
       "    </tr>\n",
       "    <tr>\n",
       "      <th>25%</th>\n",
       "      <td>-4.605170</td>\n",
       "      <td>1.545029</td>\n",
       "      <td>6.369901</td>\n",
       "      <td>2.792208</td>\n",
       "      <td>4.654336</td>\n",
       "      <td>4.052974</td>\n",
       "      <td>3.897610</td>\n",
       "      <td>5.560109</td>\n",
       "      <td>4.122850</td>\n",
       "      <td>5.475622</td>\n",
       "      <td>3.467272</td>\n",
       "      <td>3.430534</td>\n",
       "      <td>4.146768</td>\n",
       "      <td>4.459471</td>\n",
       "      <td>4.419020</td>\n",
       "      <td>2.678607</td>\n",
       "      <td>4.933215</td>\n",
       "      <td>3.895536</td>\n",
       "      <td>0.678034</td>\n",
       "    </tr>\n",
       "    <tr>\n",
       "      <th>50%</th>\n",
       "      <td>-4.605170</td>\n",
       "      <td>1.945079</td>\n",
       "      <td>6.464588</td>\n",
       "      <td>3.363004</td>\n",
       "      <td>5.170359</td>\n",
       "      <td>4.657374</td>\n",
       "      <td>4.515916</td>\n",
       "      <td>6.260047</td>\n",
       "      <td>4.652627</td>\n",
       "      <td>6.035407</td>\n",
       "      <td>4.091116</td>\n",
       "      <td>4.075385</td>\n",
       "      <td>4.765097</td>\n",
       "      <td>4.974250</td>\n",
       "      <td>4.920043</td>\n",
       "      <td>3.444264</td>\n",
       "      <td>5.620839</td>\n",
       "      <td>4.421442</td>\n",
       "      <td>0.841567</td>\n",
       "    </tr>\n",
       "    <tr>\n",
       "      <th>75%</th>\n",
       "      <td>-4.605170</td>\n",
       "      <td>2.429448</td>\n",
       "      <td>6.590301</td>\n",
       "      <td>3.869994</td>\n",
       "      <td>5.678077</td>\n",
       "      <td>5.238353</td>\n",
       "      <td>5.145745</td>\n",
       "      <td>6.815997</td>\n",
       "      <td>5.164049</td>\n",
       "      <td>6.553212</td>\n",
       "      <td>4.647054</td>\n",
       "      <td>4.672767</td>\n",
       "      <td>5.388264</td>\n",
       "      <td>5.465180</td>\n",
       "      <td>5.450341</td>\n",
       "      <td>4.021344</td>\n",
       "      <td>6.382258</td>\n",
       "      <td>4.873512</td>\n",
       "      <td>0.862890</td>\n",
       "    </tr>\n",
       "    <tr>\n",
       "      <th>max</th>\n",
       "      <td>13.835709</td>\n",
       "      <td>8.224427</td>\n",
       "      <td>7.523481</td>\n",
       "      <td>5.268674</td>\n",
       "      <td>8.186247</td>\n",
       "      <td>8.153214</td>\n",
       "      <td>8.428262</td>\n",
       "      <td>9.037740</td>\n",
       "      <td>8.497222</td>\n",
       "      <td>8.497864</td>\n",
       "      <td>7.600079</td>\n",
       "      <td>8.478833</td>\n",
       "      <td>8.774732</td>\n",
       "      <td>8.331008</td>\n",
       "      <td>9.500924</td>\n",
       "      <td>7.675416</td>\n",
       "      <td>10.279579</td>\n",
       "      <td>7.008851</td>\n",
       "      <td>0.940007</td>\n",
       "    </tr>\n",
       "  </tbody>\n",
       "</table>\n",
       "</div>"
      ],
      "text/plain": [
       "       parking_price  building_area  village_income_median     town_area  \\\n",
       "count   60000.000000   60000.000000           60000.000000  60000.000000   \n",
       "mean       -1.084802       1.999780               6.496443      3.299294   \n",
       "std         6.416276       0.711745               0.176922      0.832120   \n",
       "min        -4.605170      -1.004113               6.018593     -0.127493   \n",
       "25%        -4.605170       1.545029               6.369901      2.792208   \n",
       "50%        -4.605170       1.945079               6.464588      3.363004   \n",
       "75%        -4.605170       2.429448               6.590301      3.869994   \n",
       "max        13.835709       8.224427               7.523481      5.268674   \n",
       "\n",
       "              I_MIN        II_MIN       III_MIN        IV_MIN         V_MIN  \\\n",
       "count  60000.000000  60000.000000  60000.000000  60000.000000  60000.000000   \n",
       "mean       5.146880      4.593494      4.459350      6.152346      4.583562   \n",
       "std        0.854210      1.156269      1.210652      1.028882      1.066218   \n",
       "min       -2.532838     -4.625373     -8.517193     -2.037582     -8.517193   \n",
       "25%        4.654336      4.052974      3.897610      5.560109      4.122850   \n",
       "50%        5.170359      4.657374      4.515916      6.260047      4.652627   \n",
       "75%        5.678077      5.238353      5.145745      6.815997      5.164049   \n",
       "max        8.186247      8.153214      8.428262      9.037740      8.497222   \n",
       "\n",
       "             VI_MIN       VII_MIN      VIII_MIN        IX_MIN         X_MIN  \\\n",
       "count  60000.000000  60000.000000  60000.000000  60000.000000  60000.000000   \n",
       "mean       5.982935      3.923824      3.921509      4.749571      4.970724   \n",
       "std        0.857858      1.252294      1.342637      1.144943      0.899652   \n",
       "min       -2.116230     -8.517193     -4.332121     -8.517193     -2.027397   \n",
       "25%        5.475622      3.467272      3.430534      4.146768      4.459471   \n",
       "50%        6.035407      4.091116      4.075385      4.765097      4.974250   \n",
       "75%        6.553212      4.647054      4.672767      5.388264      5.465180   \n",
       "max        8.497864      7.600079      8.478833      8.774732      8.331008   \n",
       "\n",
       "             XI_MIN       XII_MIN      XIII_MIN       XIV_MIN           lat  \n",
       "count  60000.000000  60000.000000  60000.000000  60000.000000  60000.000000  \n",
       "mean       4.981473      3.118397      5.664713      4.296608      0.630537  \n",
       "std        0.973815      1.523666      1.261825      0.939966      0.383337  \n",
       "min       -1.311507     -8.517193     -3.750945     -2.736974     -4.605170  \n",
       "25%        4.419020      2.678607      4.933215      3.895536      0.678034  \n",
       "50%        4.920043      3.444264      5.620839      4.421442      0.841567  \n",
       "75%        5.450341      4.021344      6.382258      4.873512      0.862890  \n",
       "max        9.500924      7.675416     10.279579      7.008851      0.940007  "
      ]
     },
     "execution_count": 26,
     "metadata": {},
     "output_type": "execute_result"
    }
   ],
   "source": [
    "train_df_skew[var_X_ln].describe()"
   ]
  },
  {
   "cell_type": "markdown",
   "metadata": {},
   "source": [
    "Practice\n",
    "---\n",
    "1. As above, Process test_df data;\n",
    "- Repeate Lasso regression."
   ]
  },
  {
   "cell_type": "code",
   "execution_count": 29,
   "metadata": {},
   "outputs": [],
   "source": [
    "from sklearn.linear_model import ElasticNet, Lasso,  BayesianRidge, LassoLarsIC,ridge\n",
    "from sklearn.ensemble import GradientBoostingRegressor\n",
    "from sklearn.svm import SVR\n",
    "from sklearn.pipeline import make_pipeline\n",
    "from sklearn.preprocessing import RobustScaler\n",
    "from sklearn.model_selection import KFold, cross_val_score\n",
    "from sklearn.metrics import mean_squared_error\n",
    "from mlxtend.regressor import StackingCVRegressor"
   ]
  },
  {
   "cell_type": "code",
   "execution_count": 30,
   "metadata": {},
   "outputs": [],
   "source": [
    "lasso = make_pipeline(RobustScaler(), Lasso(alpha =0.0005, random_state=1))\n",
    "\n",
    "#Validation function\n",
    "n_folds = 5\n",
    "\n",
    "def rmsle_cv(model,X,y):\n",
    "    kf = KFold(n_folds, shuffle=True, random_state=42).get_n_splits(X.values)\n",
    "    rmse= np.sqrt(-cross_val_score(model, X.values, y, scoring=\"neg_mean_squared_error\", cv = kf))\n",
    "    return(rmse)"
   ]
  },
  {
   "cell_type": "code",
   "execution_count": 31,
   "metadata": {},
   "outputs": [],
   "source": [
    "lasso = make_pipeline(RobustScaler(), Lasso(alpha =0.0001, random_state=1,tol=0.01))"
   ]
  },
  {
   "cell_type": "code",
   "execution_count": 32,
   "metadata": {},
   "outputs": [
    {
     "data": {
      "text/plain": [
       "Index(['building_id', 'building_material', 'city', 'txn_dt', 'total_floor',\n",
       "       'building_type', 'building_use', 'building_complete_dt', 'parking_way',\n",
       "       'parking_area',\n",
       "       ...\n",
       "       'XIV_index_500', 'XIV_1000', 'XIV_index_1000', 'XIV_5000',\n",
       "       'XIV_index_5000', 'XIV_10000', 'XIV_index_10000', 'XIV_MIN',\n",
       "       'total_price', 'total_price_log'],\n",
       "      dtype='object', length=236)"
      ]
     },
     "execution_count": 32,
     "metadata": {},
     "output_type": "execute_result"
    }
   ],
   "source": [
    "train_df_skew.columns"
   ]
  },
  {
   "cell_type": "code",
   "execution_count": 38,
   "metadata": {},
   "outputs": [],
   "source": [
    "# Complete the X-y\n",
    "#y = train_df['total_price']\n",
    "#X = train_df.iloc[:len(y), 1:-1]\n",
    "X = train_df.iloc[:len(y), 1:-2]\n",
    "y = np.log1p(train_df_skew['total_price_log'])"
   ]
  },
  {
   "cell_type": "code",
   "execution_count": 39,
   "metadata": {},
   "outputs": [
    {
     "name": "stderr",
     "output_type": "stream",
     "text": [
      "/Users/macbook/anaconda3/lib/python3.7/site-packages/sklearn/linear_model/coordinate_descent.py:492: ConvergenceWarning: Objective did not converge. You might want to increase the number of iterations. Fitting data with very small alpha may cause precision problems.\n",
      "  ConvergenceWarning)\n",
      "/Users/macbook/anaconda3/lib/python3.7/site-packages/sklearn/linear_model/coordinate_descent.py:492: ConvergenceWarning: Objective did not converge. You might want to increase the number of iterations. Fitting data with very small alpha may cause precision problems.\n",
      "  ConvergenceWarning)\n",
      "/Users/macbook/anaconda3/lib/python3.7/site-packages/sklearn/linear_model/coordinate_descent.py:492: ConvergenceWarning: Objective did not converge. You might want to increase the number of iterations. Fitting data with very small alpha may cause precision problems.\n",
      "  ConvergenceWarning)\n",
      "/Users/macbook/anaconda3/lib/python3.7/site-packages/sklearn/linear_model/coordinate_descent.py:492: ConvergenceWarning: Objective did not converge. You might want to increase the number of iterations. Fitting data with very small alpha may cause precision problems.\n",
      "  ConvergenceWarning)\n"
     ]
    },
    {
     "name": "stdout",
     "output_type": "stream",
     "text": [
      "\n",
      "Lasso score (alpha = 0.00010): μ 0.6908 (𝝈 0.0219)\n",
      "\n"
     ]
    },
    {
     "name": "stderr",
     "output_type": "stream",
     "text": [
      "/Users/macbook/anaconda3/lib/python3.7/site-packages/sklearn/linear_model/coordinate_descent.py:492: ConvergenceWarning: Objective did not converge. You might want to increase the number of iterations. Fitting data with very small alpha may cause precision problems.\n",
      "  ConvergenceWarning)\n"
     ]
    }
   ],
   "source": [
    "score = (rmsle_cv(lasso, X,y))\n",
    "print(\"\\nLasso score (alpha = {:.5f}): μ {:.4f} (𝝈 {:.4f})\\n\".format(0.0001,score.mean(), score.std()))"
   ]
  },
  {
   "cell_type": "code",
   "execution_count": null,
   "metadata": {},
   "outputs": [],
   "source": []
  }
 ],
 "metadata": {
  "kernelspec": {
   "display_name": "Python 3",
   "language": "python",
   "name": "python3"
  },
  "language_info": {
   "codemirror_mode": {
    "name": "ipython",
    "version": 3
   },
   "file_extension": ".py",
   "mimetype": "text/x-python",
   "name": "python",
   "nbconvert_exporter": "python",
   "pygments_lexer": "ipython3",
   "version": "3.7.2"
  },
  "toc": {
   "colors": {
    "hover_highlight": "#DAA520",
    "navigate_num": "#000000",
    "navigate_text": "#333333",
    "running_highlight": "#FF0000",
    "selected_highlight": "#FFD700",
    "sidebar_border": "#EEEEEE",
    "wrapper_background": "#FFFFFF"
   },
   "moveMenuLeft": true,
   "nav_menu": {
    "height": "12px",
    "width": "252px"
   },
   "navigate_menu": true,
   "number_sections": true,
   "sideBar": true,
   "threshold": 4,
   "toc_cell": false,
   "toc_section_display": "block",
   "toc_window_display": false,
   "widenNotebook": false
  }
 },
 "nbformat": 4,
 "nbformat_minor": 2
}
