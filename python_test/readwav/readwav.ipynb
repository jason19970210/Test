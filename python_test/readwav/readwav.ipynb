{
 "cells": [
  {
   "cell_type": "code",
   "execution_count": 8,
   "metadata": {},
   "outputs": [
    {
     "name": "stdout",
     "output_type": "stream",
     "text": [
      "The path is: /Users/macbook/Desktop/cello.wav\n"
     ]
    },
    {
     "name": "stderr",
     "output_type": "stream",
     "text": [
      "/Users/macbook/anaconda3/lib/python3.6/site-packages/matplotlib/cbook/deprecation.py:106: MatplotlibDeprecationWarning: Adding an axes using the same arguments as a previous axes currently reuses the earlier instance.  In a future version, a new instance will always be created and returned.  Meanwhile, this warning can be suppressed, and the future behavior ensured, by passing a unique label to each axes instance.\n",
      "  warnings.warn(message, mplDeprecation, stacklevel=1)\n"
     ]
    },
    {
     "data": {
      "image/png": "[encoded data removed]",
      "text/plain": [
       "<matplotlib.figure.Figure at 0x10d51acf8>"
      ]
     },
     "metadata": {},
     "output_type": "display_data"
    }
   ],
   "source": [
    "import wave as we\n",
    "import numpy as np\n",
    "import matplotlib.pyplot as plt\n",
    "\n",
    "def wavread(path):\n",
    "    wavfile = we.open(path,\"rb\")\n",
    "    params = wavfile.getparams()\n",
    "    framesra,frameswav = params[2],params[3]\n",
    "    datawav = wavfile.readframes(frameswav)\n",
    "    wavfile.close()\n",
    "    datause = np.fromstring(datawav,dtype = np.short)\n",
    "    datause.shape = -1,2\n",
    "    datause = datause.T\n",
    "    time = np.arange(0, frameswav) * (1.0/framesra)\n",
    "    return datause,time\n",
    "\n",
    "def main():\n",
    "    path = input(\"The path is: \")\n",
    "    wavdata,wavtime = wavread(path)\n",
    "    plt.title(\"wav Frames\")\n",
    "    plt.subplot(211)\n",
    "    plt.plot(wavtime, wavdata[1])\n",
    "    plt.show()\n",
    "    \n",
    "main()\n",
    "\n",
    "# PATH:/Users/macbook/Desktop/Test"
   ]
  },
  {
   "cell_type": "code",
   "execution_count": null,
   "metadata": {
    "collapsed": true
   },
   "outputs": [],
   "source": []
  }
 ],
 "metadata": {
  "kernelspec": {
   "display_name": "Python 3",
   "language": "python",
   "name": "python3"
  },
  "language_info": {
   "codemirror_mode": {
    "name": "ipython",
    "version": 3
   },
   "file_extension": ".py",
   "mimetype": "text/x-python",
   "name": "python",
   "nbconvert_exporter": "python",
   "pygments_lexer": "ipython3",
   "version": "3.6.3"
  }
 },
 "nbformat": 4,
 "nbformat_minor": 2
}
